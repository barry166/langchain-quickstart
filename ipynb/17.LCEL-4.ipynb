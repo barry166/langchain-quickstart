{
 "cells": [
  {
   "cell_type": "markdown",
   "metadata": {},
   "source": [
    "## LCEL - 使用 LangChain 进行流式处理\n",
    "\n"
   ]
  },
  {
   "cell_type": "code",
   "execution_count": 1,
   "metadata": {},
   "outputs": [],
   "source": [
    "# 环境变量设置\n",
    "import os\n",
    "os.environ[\"OPENAI_API_KEY\"] = \"sk-xxx\"\n",
    "os.environ[\"OPENAI_API_BASE\"] = \"https://api.chatanywhere.tech/v1\""
   ]
  },
  {
   "cell_type": "markdown",
   "metadata": {},
   "source": [
    "使用流式处理可以增强用户体验，LCEL中的组成模块LLMs、解析器、提示、检索器和代理都实现了 LangChain Runnable 接口。\n",
    "\n",
    "在之前的小节中有提到过，今天深入其使用技巧\n",
    "\n",
    "- sync stream 和 async astream：流式处理的默认实现，从链中流式传输最终输出。\n",
    "\n",
    "- async astream_events 和 async astream_log：这些方法提供了一种从链中流式传输中间步骤和最终输出的方式。\n"
   ]
  },
  {
   "cell_type": "markdown",
   "metadata": {},
   "source": [
    "### 使用Stream"
   ]
  },
  {
   "cell_type": "markdown",
   "metadata": {},
   "source": [
    "所有Runnable对象都实现了一个名为stream的同步方法和一个名为astream的异步变体。\n",
    "\n",
    "这些方法旨在以块的形式流式传输最终输出，只要可用就会产生每个块。\n",
    "\n",
    "只有在程序中的所有步骤都知道如何处理输入流时，即一次处理一个输入块，并生成相应的输出块时，才能进行流式处理。\n",
    "\n",
    "这种处理的复杂程度可以有所不同，从像发出由 LLM 生成的令牌这样的简单任务，到在整个 JSON 完成之前流式传输 JSON 结果的更具挑战性的任务。"
   ]
  },
  {
   "cell_type": "markdown",
   "metadata": {},
   "source": [
    "#### LLMs 和 Chat Models"
   ]
  },
  {
   "cell_type": "code",
   "execution_count": 2,
   "metadata": {},
   "outputs": [
    {
     "name": "stdout",
     "output_type": "stream",
     "text": [
      "|你|好|！|我|是|一个|语|言|模|型|人|工|智|能|助|手|，|专|注|于|提|供|信息|和|回|答|问题|。|我|能|够|帮|助|你|解|决|问题|，|提|供|建|议|和|支|持|。|有|什|么|我|可以|帮|助|你|的|吗|？||"
     ]
    }
   ],
   "source": [
    "# 使用人类论示例，但您可以使用您喜欢的聊天模型！\n",
    "from langchain_openai import ChatOpenAI\n",
    "\n",
    "model = ChatOpenAI()\n",
    "\n",
    "chunks = []\n",
    "async for chunk in model.astream(\"你好。告诉我一些关于你自己的事情\"):\n",
    "    chunks.append(chunk)\n",
    "    print(chunk.content, end=\"|\", flush=True)"
   ]
  },
  {
   "cell_type": "markdown",
   "metadata": {},
   "source": [
    "第一个消息块"
   ]
  },
  {
   "cell_type": "code",
   "execution_count": 6,
   "metadata": {},
   "outputs": [
    {
     "data": {
      "text/plain": [
       "AIMessageChunk(content='', id='run-facbeed8-35f7-47f2-89df-3f28a875054e')"
      ]
     },
     "execution_count": 6,
     "metadata": {},
     "output_type": "execute_result"
    }
   ],
   "source": [
    "chunks[0]"
   ]
  },
  {
   "cell_type": "markdown",
   "metadata": {},
   "source": [
    "消息块是可以添加的 -- 可以简单地将它们相加以获得到目前为止响应的状态！"
   ]
  },
  {
   "cell_type": "code",
   "execution_count": 4,
   "metadata": {},
   "outputs": [
    {
     "data": {
      "text/plain": [
       "AIMessageChunk(content='你好！我', id='run-facbeed8-35f7-47f2-89df-3f28a875054e')"
      ]
     },
     "execution_count": 4,
     "metadata": {},
     "output_type": "execute_result"
    }
   ],
   "source": [
    "chunks[0] + chunks[1] + chunks[2] + chunks[3] + chunks[4]"
   ]
  },
  {
   "cell_type": "markdown",
   "metadata": {},
   "source": [
    "#### Chain"
   ]
  },
  {
   "cell_type": "markdown",
   "metadata": {},
   "source": [
    "下面是一个使用LCEL的简单例子，通过将不同组件的链接在一起的声明方式，可以自动实现stream和astream等功能\n",
    "\n",
    "因为这些模块都实现了标准的Runnable接口"
   ]
  },
  {
   "cell_type": "code",
   "execution_count": 7,
   "metadata": {},
   "outputs": [
    {
     "name": "stdout",
     "output_type": "stream",
     "text": [
      "|为|什|么|鹦|鹉|喜|欢|去|电|影|院|？\n",
      "\n",
      "|因|为|它|们|喜|欢|重|复|别|人|说|的|台|词|！||"
     ]
    }
   ],
   "source": [
    "from langchain_core.output_parsers import StrOutputParser\n",
    "from langchain_core.prompts import ChatPromptTemplate\n",
    "\n",
    "prompt = ChatPromptTemplate.from_template(\"告诉我一个关于{topic}的笑话\")\n",
    "parser = StrOutputParser()\n",
    "chain = prompt | model | parser\n",
    "\n",
    "async for chunk in chain.astream({\"topic\": \"鹦鹉\"}):\n",
    "    print(chunk, end=\"|\", flush=True)"
   ]
  },
  {
   "cell_type": "markdown",
   "metadata": {},
   "source": [
    "如果您想要在生成时从输出中流式传输 JSON，解析器需要操作输入流"
   ]
  },
  {
   "cell_type": "code",
   "execution_count": 22,
   "metadata": {},
   "outputs": [
    {
     "name": "stdout",
     "output_type": "stream",
     "text": [
      "{}\n",
      "{'countries': []}\n",
      "{'countries': [{}]}\n",
      "{'countries': [{'name': ''}]}\n",
      "{'countries': [{'name': 'France'}]}\n",
      "{'countries': [{'name': 'France', 'population': 670}]}\n",
      "{'countries': [{'name': 'France', 'population': 670760}]}\n",
      "{'countries': [{'name': 'France', 'population': 67076000}]}\n",
      "{'countries': [{'name': 'France', 'population': 67076000}, {}]}\n",
      "{'countries': [{'name': 'France', 'population': 67076000}, {'name': ''}]}\n",
      "{'countries': [{'name': 'France', 'population': 67076000}, {'name': 'Spain'}]}\n",
      "{'countries': [{'name': 'France', 'population': 67076000}, {'name': 'Spain', 'population': 467}]}\n",
      "{'countries': [{'name': 'France', 'population': 67076000}, {'name': 'Spain', 'population': 467330}]}\n",
      "{'countries': [{'name': 'France', 'population': 67076000}, {'name': 'Spain', 'population': 46733038}]}\n",
      "{'countries': [{'name': 'France', 'population': 67076000}, {'name': 'Spain', 'population': 46733038}, {}]}\n",
      "{'countries': [{'name': 'France', 'population': 67076000}, {'name': 'Spain', 'population': 46733038}, {'name': ''}]}\n",
      "{'countries': [{'name': 'France', 'population': 67076000}, {'name': 'Spain', 'population': 46733038}, {'name': 'Japan'}]}\n",
      "{'countries': [{'name': 'France', 'population': 67076000}, {'name': 'Spain', 'population': 46733038}, {'name': 'Japan', 'population': 126}]}\n",
      "{'countries': [{'name': 'France', 'population': 67076000}, {'name': 'Spain', 'population': 46733038}, {'name': 'Japan', 'population': 126476}]}\n",
      "{'countries': [{'name': 'France', 'population': 67076000}, {'name': 'Spain', 'population': 46733038}, {'name': 'Japan', 'population': 126476461}]}\n"
     ]
    }
   ],
   "source": [
    "from langchain_core.output_parsers import JsonOutputParser\n",
    "\n",
    "chain = (\n",
    "    model | JsonOutputParser()\n",
    ")  # 由于 Langchain 旧版本中的一个错误，JsonOutputParser 未能从某些模型中流式传输结果\n",
    "async for text in chain.astream(\n",
    "    '以 JSON 格式输出法国、西班牙和日本的国家及其人口的列表。使用一个带有“countries”外键的字典，其中包含一个国家列表。每个国家应该有“name”和“population”关键字。'\n",
    "):\n",
    "    print(text, flush=True)"
   ]
  },
  {
   "cell_type": "markdown",
   "metadata": {},
   "source": [
    "这是JsonOutputParser单独处理接受的输入和输出，接受字符串，输出json"
   ]
  },
  {
   "cell_type": "code",
   "execution_count": 25,
   "metadata": {},
   "outputs": [
    {
     "data": {
      "text/plain": [
       "{'countries': [{'name': 'France', 'population': 67081000},\n",
       "  {'name': 'Spain', 'population': 47329000},\n",
       "  {'name': 'Japan', 'population': 126860000}]}"
      ]
     },
     "execution_count": 25,
     "metadata": {},
     "output_type": "execute_result"
    }
   ],
   "source": [
    "res = json_string = '''\n",
    "{\n",
    "    \"countries\": [\n",
    "        {\"name\": \"France\", \"population\": 67081000},\n",
    "        {\"name\": \"Spain\", \"population\": 47329000},\n",
    "        {\"name\": \"Japan\", \"population\": 126860000}\n",
    "    ]\n",
    "}\n",
    "'''\n",
    "JsonOutputParser().invoke(res)"
   ]
  },
  {
   "cell_type": "markdown",
   "metadata": {},
   "source": [
    "**在这基础上增加处理函数提取国家信息**"
   ]
  },
  {
   "cell_type": "code",
   "execution_count": 20,
   "metadata": {},
   "outputs": [
    {
     "name": "stdout",
     "output_type": "stream",
     "text": [
      "['法国', '西班牙', '日本']|"
     ]
    }
   ],
   "source": [
    "from langchain_core.output_parsers import (\n",
    "    JsonOutputParser,\n",
    ")\n",
    "\n",
    "\n",
    "# 一个操作最终输入而不是输入流的函数\n",
    "def _extract_country_names(inputs):\n",
    "    \"\"\"一个不操作输入流并且会中断流式传输的函数。\"\"\"\n",
    "    if not isinstance(inputs, dict):\n",
    "        return \"\"\n",
    "\n",
    "    if \"countries\" not in inputs:\n",
    "        return \"\"\n",
    "\n",
    "    countries = inputs[\"countries\"]\n",
    "\n",
    "    if not isinstance(countries, list):\n",
    "        return \"\"\n",
    "\n",
    "    country_names = [\n",
    "        country.get(\"name\") for country in countries if isinstance(country, dict)\n",
    "    ]\n",
    "    return country_names\n",
    "\n",
    "\n",
    "chain = model | JsonOutputParser() | _extract_country_names\n",
    "\n",
    "async for text in chain.astream(\n",
    "    '以 JSON 格式输出法国、西班牙和日本的国家及其人口的列表。使用一个带有“countries”外键的字典，其中包含一个国家列表。每个国家应该有“name”和“population”关键字。'\n",
    "):\n",
    "    print(text, end=\"|\", flush=True)"
   ]
  }
 ],
 "metadata": {
  "kernelspec": {
   "display_name": "langchain",
   "language": "python",
   "name": "python3"
  },
  "language_info": {
   "codemirror_mode": {
    "name": "ipython",
    "version": 3
   },
   "file_extension": ".py",
   "mimetype": "text/x-python",
   "name": "python",
   "nbconvert_exporter": "python",
   "pygments_lexer": "ipython3",
   "version": "3.12.2"
  }
 },
 "nbformat": 4,
 "nbformat_minor": 2
}
