{
 "cells": [
  {
   "cell_type": "markdown",
   "metadata": {},
   "source": [
    "### 文件加载（Document loaders）\n"
   ]
  },
  {
   "cell_type": "code",
   "execution_count": 15,
   "metadata": {},
   "outputs": [],
   "source": [
    "import os\n",
    "os.environ[\"OPENAI_API_KEY\"] = \"sk-xxx\"\n",
    "os.environ[\"OPENAI_API_BASE\"] = \"https://api.chatanywhere.tech/v1\"\n",
    "os.environ[\"OPENAI_API_MODEL\"] = \"gpt-4-turbo\""
   ]
  },
  {
   "cell_type": "markdown",
   "metadata": {},
   "source": [
    "#### 加载 markdown"
   ]
  },
  {
   "cell_type": "code",
   "execution_count": 1,
   "metadata": {},
   "outputs": [
    {
     "data": {
      "text/plain": [
       "[Document(page_content='# This is index markdown\\n## Test the Document Loader\\n### The paragraph text', metadata={'source': './index.md'})]"
      ]
     },
     "execution_count": 1,
     "metadata": {},
     "output_type": "execute_result"
    }
   ],
   "source": [
    "from langchain_community.document_loaders import TextLoader\n",
    "\n",
    "loader = TextLoader(\"./index.md\")\n",
    "loader.load()"
   ]
  },
  {
   "cell_type": "markdown",
   "metadata": {},
   "source": [
    "#### 加载 pdf\n"
   ]
  },
  {
   "cell_type": "code",
   "execution_count": 8,
   "metadata": {},
   "outputs": [
    {
     "name": "stdout",
     "output_type": "stream",
     "text": [
      "Requirement already satisfied: pypdf in /Users/barry/.pyenv/versions/3.12.2/envs/langchain/lib/python3.12/site-packages (4.2.0)\n",
      "Requirement already satisfied: langchain_community in /Users/barry/.pyenv/versions/3.12.2/envs/langchain/lib/python3.12/site-packages (0.0.36)\n",
      "Requirement already satisfied: PyYAML>=5.3 in /Users/barry/.pyenv/versions/3.12.2/envs/langchain/lib/python3.12/site-packages (from langchain_community) (6.0.1)\n",
      "Requirement already satisfied: SQLAlchemy<3,>=1.4 in /Users/barry/.pyenv/versions/3.12.2/envs/langchain/lib/python3.12/site-packages (from langchain_community) (2.0.29)\n",
      "Requirement already satisfied: aiohttp<4.0.0,>=3.8.3 in /Users/barry/.pyenv/versions/3.12.2/envs/langchain/lib/python3.12/site-packages (from langchain_community) (3.9.5)\n",
      "Requirement already satisfied: dataclasses-json<0.7,>=0.5.7 in /Users/barry/.pyenv/versions/3.12.2/envs/langchain/lib/python3.12/site-packages (from langchain_community) (0.5.14)\n",
      "Requirement already satisfied: langchain-core<0.2.0,>=0.1.48 in /Users/barry/.pyenv/versions/3.12.2/envs/langchain/lib/python3.12/site-packages (from langchain_community) (0.1.50)\n",
      "Requirement already satisfied: langsmith<0.2.0,>=0.1.0 in /Users/barry/.pyenv/versions/3.12.2/envs/langchain/lib/python3.12/site-packages (from langchain_community) (0.1.52)\n",
      "Requirement already satisfied: numpy<2,>=1 in /Users/barry/.pyenv/versions/3.12.2/envs/langchain/lib/python3.12/site-packages (from langchain_community) (1.26.4)\n",
      "Requirement already satisfied: requests<3,>=2 in /Users/barry/.pyenv/versions/3.12.2/envs/langchain/lib/python3.12/site-packages (from langchain_community) (2.31.0)\n",
      "Requirement already satisfied: tenacity<9.0.0,>=8.1.0 in /Users/barry/.pyenv/versions/3.12.2/envs/langchain/lib/python3.12/site-packages (from langchain_community) (8.2.3)\n",
      "Requirement already satisfied: aiosignal>=1.1.2 in /Users/barry/.pyenv/versions/3.12.2/envs/langchain/lib/python3.12/site-packages (from aiohttp<4.0.0,>=3.8.3->langchain_community) (1.3.1)\n",
      "Requirement already satisfied: attrs>=17.3.0 in /Users/barry/.pyenv/versions/3.12.2/envs/langchain/lib/python3.12/site-packages (from aiohttp<4.0.0,>=3.8.3->langchain_community) (23.2.0)\n",
      "Requirement already satisfied: frozenlist>=1.1.1 in /Users/barry/.pyenv/versions/3.12.2/envs/langchain/lib/python3.12/site-packages (from aiohttp<4.0.0,>=3.8.3->langchain_community) (1.4.1)\n",
      "Requirement already satisfied: multidict<7.0,>=4.5 in /Users/barry/.pyenv/versions/3.12.2/envs/langchain/lib/python3.12/site-packages (from aiohttp<4.0.0,>=3.8.3->langchain_community) (6.0.5)\n",
      "Requirement already satisfied: yarl<2.0,>=1.0 in /Users/barry/.pyenv/versions/3.12.2/envs/langchain/lib/python3.12/site-packages (from aiohttp<4.0.0,>=3.8.3->langchain_community) (1.9.4)\n",
      "Requirement already satisfied: marshmallow<4.0.0,>=3.18.0 in /Users/barry/.pyenv/versions/3.12.2/envs/langchain/lib/python3.12/site-packages (from dataclasses-json<0.7,>=0.5.7->langchain_community) (3.21.2)\n",
      "Requirement already satisfied: typing-inspect<1,>=0.4.0 in /Users/barry/.pyenv/versions/3.12.2/envs/langchain/lib/python3.12/site-packages (from dataclasses-json<0.7,>=0.5.7->langchain_community) (0.9.0)\n",
      "Requirement already satisfied: jsonpatch<2.0,>=1.33 in /Users/barry/.pyenv/versions/3.12.2/envs/langchain/lib/python3.12/site-packages (from langchain-core<0.2.0,>=0.1.48->langchain_community) (1.33)\n",
      "Requirement already satisfied: packaging<24.0,>=23.2 in /Users/barry/.pyenv/versions/3.12.2/envs/langchain/lib/python3.12/site-packages (from langchain-core<0.2.0,>=0.1.48->langchain_community) (23.2)\n",
      "Requirement already satisfied: pydantic<3,>=1 in /Users/barry/.pyenv/versions/3.12.2/envs/langchain/lib/python3.12/site-packages (from langchain-core<0.2.0,>=0.1.48->langchain_community) (2.7.1)\n",
      "Requirement already satisfied: orjson<4.0.0,>=3.9.14 in /Users/barry/.pyenv/versions/3.12.2/envs/langchain/lib/python3.12/site-packages (from langsmith<0.2.0,>=0.1.0->langchain_community) (3.10.2)\n",
      "Requirement already satisfied: charset-normalizer<4,>=2 in /Users/barry/.pyenv/versions/3.12.2/envs/langchain/lib/python3.12/site-packages (from requests<3,>=2->langchain_community) (3.3.2)\n",
      "Requirement already satisfied: idna<4,>=2.5 in /Users/barry/.pyenv/versions/3.12.2/envs/langchain/lib/python3.12/site-packages (from requests<3,>=2->langchain_community) (3.7)\n",
      "Requirement already satisfied: urllib3<3,>=1.21.1 in /Users/barry/.pyenv/versions/3.12.2/envs/langchain/lib/python3.12/site-packages (from requests<3,>=2->langchain_community) (2.2.1)\n",
      "Requirement already satisfied: certifi>=2017.4.17 in /Users/barry/.pyenv/versions/3.12.2/envs/langchain/lib/python3.12/site-packages (from requests<3,>=2->langchain_community) (2024.2.2)\n",
      "Requirement already satisfied: typing-extensions>=4.6.0 in /Users/barry/.pyenv/versions/3.12.2/envs/langchain/lib/python3.12/site-packages (from SQLAlchemy<3,>=1.4->langchain_community) (4.11.0)\n",
      "Requirement already satisfied: jsonpointer>=1.9 in /Users/barry/.pyenv/versions/3.12.2/envs/langchain/lib/python3.12/site-packages (from jsonpatch<2.0,>=1.33->langchain-core<0.2.0,>=0.1.48->langchain_community) (2.4)\n",
      "Requirement already satisfied: annotated-types>=0.4.0 in /Users/barry/.pyenv/versions/3.12.2/envs/langchain/lib/python3.12/site-packages (from pydantic<3,>=1->langchain-core<0.2.0,>=0.1.48->langchain_community) (0.6.0)\n",
      "Requirement already satisfied: pydantic-core==2.18.2 in /Users/barry/.pyenv/versions/3.12.2/envs/langchain/lib/python3.12/site-packages (from pydantic<3,>=1->langchain-core<0.2.0,>=0.1.48->langchain_community) (2.18.2)\n",
      "Requirement already satisfied: mypy-extensions>=0.3.0 in /Users/barry/.pyenv/versions/3.12.2/envs/langchain/lib/python3.12/site-packages (from typing-inspect<1,>=0.4.0->dataclasses-json<0.7,>=0.5.7->langchain_community) (1.0.0)\n",
      "Collecting langchain-text-splitters\n",
      "  Using cached langchain_text_splitters-0.0.1-py3-none-any.whl.metadata (2.0 kB)\n",
      "Requirement already satisfied: langchain-core<0.2.0,>=0.1.28 in /Users/barry/.pyenv/versions/3.12.2/envs/langchain/lib/python3.12/site-packages (from langchain-text-splitters) (0.1.50)\n",
      "Requirement already satisfied: PyYAML>=5.3 in /Users/barry/.pyenv/versions/3.12.2/envs/langchain/lib/python3.12/site-packages (from langchain-core<0.2.0,>=0.1.28->langchain-text-splitters) (6.0.1)\n",
      "Requirement already satisfied: jsonpatch<2.0,>=1.33 in /Users/barry/.pyenv/versions/3.12.2/envs/langchain/lib/python3.12/site-packages (from langchain-core<0.2.0,>=0.1.28->langchain-text-splitters) (1.33)\n",
      "Requirement already satisfied: langsmith<0.2.0,>=0.1.0 in /Users/barry/.pyenv/versions/3.12.2/envs/langchain/lib/python3.12/site-packages (from langchain-core<0.2.0,>=0.1.28->langchain-text-splitters) (0.1.52)\n",
      "Requirement already satisfied: packaging<24.0,>=23.2 in /Users/barry/.pyenv/versions/3.12.2/envs/langchain/lib/python3.12/site-packages (from langchain-core<0.2.0,>=0.1.28->langchain-text-splitters) (23.2)\n",
      "Requirement already satisfied: pydantic<3,>=1 in /Users/barry/.pyenv/versions/3.12.2/envs/langchain/lib/python3.12/site-packages (from langchain-core<0.2.0,>=0.1.28->langchain-text-splitters) (2.7.1)\n",
      "Requirement already satisfied: tenacity<9.0.0,>=8.1.0 in /Users/barry/.pyenv/versions/3.12.2/envs/langchain/lib/python3.12/site-packages (from langchain-core<0.2.0,>=0.1.28->langchain-text-splitters) (8.2.3)\n",
      "Requirement already satisfied: jsonpointer>=1.9 in /Users/barry/.pyenv/versions/3.12.2/envs/langchain/lib/python3.12/site-packages (from jsonpatch<2.0,>=1.33->langchain-core<0.2.0,>=0.1.28->langchain-text-splitters) (2.4)\n",
      "Requirement already satisfied: orjson<4.0.0,>=3.9.14 in /Users/barry/.pyenv/versions/3.12.2/envs/langchain/lib/python3.12/site-packages (from langsmith<0.2.0,>=0.1.0->langchain-core<0.2.0,>=0.1.28->langchain-text-splitters) (3.10.2)\n",
      "Requirement already satisfied: requests<3,>=2 in /Users/barry/.pyenv/versions/3.12.2/envs/langchain/lib/python3.12/site-packages (from langsmith<0.2.0,>=0.1.0->langchain-core<0.2.0,>=0.1.28->langchain-text-splitters) (2.31.0)\n",
      "Requirement already satisfied: annotated-types>=0.4.0 in /Users/barry/.pyenv/versions/3.12.2/envs/langchain/lib/python3.12/site-packages (from pydantic<3,>=1->langchain-core<0.2.0,>=0.1.28->langchain-text-splitters) (0.6.0)\n",
      "Requirement already satisfied: pydantic-core==2.18.2 in /Users/barry/.pyenv/versions/3.12.2/envs/langchain/lib/python3.12/site-packages (from pydantic<3,>=1->langchain-core<0.2.0,>=0.1.28->langchain-text-splitters) (2.18.2)\n",
      "Requirement already satisfied: typing-extensions>=4.6.1 in /Users/barry/.pyenv/versions/3.12.2/envs/langchain/lib/python3.12/site-packages (from pydantic<3,>=1->langchain-core<0.2.0,>=0.1.28->langchain-text-splitters) (4.11.0)\n",
      "Requirement already satisfied: charset-normalizer<4,>=2 in /Users/barry/.pyenv/versions/3.12.2/envs/langchain/lib/python3.12/site-packages (from requests<3,>=2->langsmith<0.2.0,>=0.1.0->langchain-core<0.2.0,>=0.1.28->langchain-text-splitters) (3.3.2)\n",
      "Requirement already satisfied: idna<4,>=2.5 in /Users/barry/.pyenv/versions/3.12.2/envs/langchain/lib/python3.12/site-packages (from requests<3,>=2->langsmith<0.2.0,>=0.1.0->langchain-core<0.2.0,>=0.1.28->langchain-text-splitters) (3.7)\n",
      "Requirement already satisfied: urllib3<3,>=1.21.1 in /Users/barry/.pyenv/versions/3.12.2/envs/langchain/lib/python3.12/site-packages (from requests<3,>=2->langsmith<0.2.0,>=0.1.0->langchain-core<0.2.0,>=0.1.28->langchain-text-splitters) (2.2.1)\n",
      "Requirement already satisfied: certifi>=2017.4.17 in /Users/barry/.pyenv/versions/3.12.2/envs/langchain/lib/python3.12/site-packages (from requests<3,>=2->langsmith<0.2.0,>=0.1.0->langchain-core<0.2.0,>=0.1.28->langchain-text-splitters) (2024.2.2)\n",
      "Using cached langchain_text_splitters-0.0.1-py3-none-any.whl (21 kB)\n",
      "Installing collected packages: langchain-text-splitters\n",
      "Successfully installed langchain-text-splitters-0.0.1\n"
     ]
    }
   ],
   "source": [
    "! pip install pypdf\n",
    "! pip install langchain_community\n",
    "! pip install -U langchain-text-splitters"
   ]
  },
  {
   "cell_type": "code",
   "execution_count": 13,
   "metadata": {},
   "outputs": [
    {
     "name": "stdout",
     "output_type": "stream",
     "text": [
      "32\n",
      "[Document(page_content='易速鲜花集团 \\n \\n \\n \\n \\n \\n \\n \\n \\n \\n \\n易速鲜花 服务中心  \\n易速鲜花 股份有限公司  易\\n速\\n鲜\\n花\\n员\\n工\\n手\\n册', metadata={'source': 'test.pdf', 'page': 0}), Document(page_content='易速鲜花集团 \\n 1 董事长致辞  \\n亲爱的同事：  \\n您好！欢迎您加入 易速鲜花 旅游文化股份有限公司 ! \\n我代表易速鲜花 对您的到来表示热烈的欢迎！并为公司拥有您\\n这样优秀的员工而感到自豪和骄傲。 易速鲜花 将会因您的努力工作\\n而稳步健康发展，将会因您的贡献而更加精彩。在此，我为您即将\\n为易速鲜花 而付出的辛勤汗水表示诚挚的感谢！  \\n易速鲜花 这个大家庭需要您、我、他每一位员工积极发扬“ 团\\n结向上，完美无缺 ”的企业精神，以高度的主人翁责任感、使命感，\\n与易速鲜花 同呼吸、共命 运，在各自的岗位上，勤奋敬业，尽职尽\\n责，奋力拼搏。作为大家庭的一员，同仁之间应默契配合，相互接\\n纳，取长补短，共同奋进，同舟共济。这样，我们就可以成为一个\\n坚强的战斗堡垒， 在创 易速鲜花 发展的道路上披荆斩棘， 乘风破浪，\\n无往不胜，所向披靡。最终以一流的服务、一流的管理、一流的信\\n誉让我们的 易速鲜花 成为全国的一颗明珠。  \\n希望各位以本手册为指南，共创 易速鲜花 美好明天 ! \\n最后，诚挚地祝愿大家在公司工作愉快，前程似锦 ! \\n \\n \\n                    签名：', metadata={'source': 'test.pdf', 'page': 1}), Document(page_content='易速鲜花集团 \\n 2 易速鲜花 晨会宣言  \\n \\n \\n \\n \\n \\n \\n \\n \\n \\n \\n \\n \\n \\n \\n \\n \\n  \\n今天 \\n我开始新的生活  \\n我要用全身心的爱迎接今天  \\n我会用我全部的热情  \\n关爱我的同事  \\n热爱我们的公司  \\n服务于我们的客户  \\n忠于我们的工作  \\n在努力工作中充实、完善，并超越自我  \\n每天进步一点点  \\n今天 \\n我就付诸于行动！', metadata={'source': 'test.pdf', 'page': 2}), Document(page_content='易速鲜花集团 \\n 3  \\n易速鲜花 简介 \\n易速鲜花，一个超越一切鲜花运营商的全新概念， 土地犹如一片\\n绿色的画布，展示着生机勃勃的花海。我们在这里嫁接了乐、吃、住、\\n行、游等元素，打造出一个独特的，富含中国原生态特色的网上鲜花\\n服务平台。  \\n易速鲜花 ，赋予每一朵鲜花更深的情感内涵。我们的文化展示服\\n务包括酒文化、茶文化、农耕文化等，将呈现出多行业业态相互辉映\\n及繁荣共存的繁花似锦。  \\n易速鲜花，她以高品位的服务，超前的经营理念，尖端的营 销策\\n略和丰富的艺术气质，旨在满足大众的需求，创造独一无二的网上购\\n花体验。  \\n易速鲜花，她是古老与现代的完美融合，她将带您体验夜郎古国\\n的历史风貌，感受穿越时空的神奇。购花不再只是交易，更是一次文\\n化之旅、美食之旅、音乐之旅，一场美妙体验的新境界。  \\n易速鲜花，她超越了传统网络鲜花运营商单一的经营模式，她将\\n成为影响并促进中国花卉行业综合经济发展和地位提升的重要力量，\\n同时也是 一张崭新的名片。  \\n因此，易速鲜花，她不只是售卖鲜花，她记忆的是人类对自身生\\n存环境的思考。她带给您的不仅是一束鲜花，更是 一切未来的记忆 带\\n给您身心合一的体验，让您在每一次购花过程中都感到心动。  \\n易速鲜花，她是这座城市的明灯，她激活了这里的活力，改写了\\n这里的历史，推进了这里的发展。我们诚挚地邀请您，一起来到这个\\n乐土，享受易速鲜花带给您的美好。  \\n易速鲜花， 欢迎您的加入。', metadata={'source': 'test.pdf', 'page': 3}), Document(page_content='易速鲜花集团 \\n 4  \\n目   录 \\n第一章  人事管理制度 .............................7  \\n       一 员工的招聘与录用 ......................7  \\n       二 培训..................................8  \\n       三 薪酬与福利 ............................9  \\n       四 劳动合同解除与终止 ....................10  \\n       五 离职..................................10  \\n第二章  员工规范 .................................12  \\n       一 行为规范 ..............................12  \\n       二 仪容仪表规范 ..........................13  \\n       三 个人修养 ..............................18  \\n第三章  规范用语 .................................19  \\n第四章  规章制度 .................................22  \\n           一 考勤制度 ..............................22  \\n           二 假别..................................23  \\n第五章  奖惩制度 ................................ .26 \\n第六章  安全条例 .................................31  \\n第七章  附则.....................................33', metadata={'source': 'test.pdf', 'page': 4}), Document(page_content='易速鲜花集团 \\n 5  \\n第一章  人事管理制度  \\n第一节  员工的招聘与录用  \\n \\n1、人事部统一将用人部门招人计划呈报总经理签字审批后由人事\\n部负责招聘。  \\n2、公司员工分为管理公司员工和代商家招聘的员工。  \\n3、招聘的基本原则：公平、公正、择优录取。  \\n4、应聘人员须向我公司提供以下资料：  \\n① 本人如实填写《入职申请表》一份；  \\n② 近期免冠标准照片四张；  \\n③ 身份证复印件（验明正件）；  \\n④ 学历证明（毕业证书、学位证书及 验证证明）；  \\n⑤ 职称证书和资格证书；   \\n⑥ 与原单位解除劳动关系的证明文件；  \\n⑦ 公司指定医院体检证明；  \\n⑧ 人力资源中心要求提供的其他资料。', metadata={'source': 'test.pdf', 'page': 5}), Document(page_content='易速鲜花集团 \\n 6 5、招聘采用面试及笔试的方式进行初选。  \\n6、经初选合格的人员须参加公司举办的“新员工入职培训”学习，\\n培训结束经考核合格后，即可成为我公司的试用员工。  \\n7、进入公司一个月内必须签订劳动合同，根据签订《劳动合同》\\n的年限，试用期一至六个月，试用期享受试用待遇。  \\n8、特殊工种需持有相应工作证件方可入职。  \\n \\n第二节  培训 \\n \\n1、公司根据工作需要，随时对员工进行必要的基本素质和专业素\\n质的在职培训，培训考核结果记入个人档 案与绩效挂钩。  \\n2、员工要认真学习，通过学习提高自己的文化素质和业务水平。  \\n3、员工试用期间必须通过培训完成公司相关管理制度，本岗位工\\n作职责、工作流程的学习。  \\n4、由公司外派参加培训的，须遵守与公司签订培训协议，如有违\\n反，一切按照协议内容执行。  \\n5、员工工作期间，参加的各项培训考核中不合格者，将给予一次\\n补考机会，补考不合格者到人力资源部进行脱岗培训学习。  \\n6、在公司绩效考核中连续三个月或年度累计四个月不合格，部门\\n可填写《在职人员脱岗培训单》将不合格员工退回到人力资源部进\\n行脱岗学习。', metadata={'source': 'test.pdf', 'page': 6}), Document(page_content='易速鲜花集团 \\n 7 7、由于不能胜任本岗位工作或其他原因，部门填写《 在职人员脱\\n岗培训单》将不合格员工退回到人力资源部进行脱岗培训，培训期\\n间按照本地最低工资标准发放。  \\n第三节  薪酬与福利  \\n \\n1、员工工资均以税前值计算。 员工薪金 =基本工资 +加班工资 +（职务）\\n岗位津贴 +绩效工资 +效益工资 +工龄工资  \\n2、按政府规定，公司为员工购买相关社会保险，个人应承担的部\\n分从每月薪资中扣除。  \\n3、个人应缴纳所得税，由公司代扣代缴。  \\n4、公司原则上每月 20日发放上月薪资，公司凭员工提交的银行卡\\n资料打入指定银行卡。  \\n5、员工享受国家法定节日等带薪假期以政府相关规定及公司发文\\n为准。 \\n6、公司为员工提供住宿。  \\n7、对在公司就餐的员工给予餐 补。', metadata={'source': 'test.pdf', 'page': 7}), Document(page_content='易速鲜花集团 \\n 8  \\n \\n第四节  劳动合同解除与终止  \\n \\n1、员工出现下列情况之一的，本公司可以与其解除劳动合同，但\\n须在解除合同前三十日以书面形式通知该员工：  \\n① 员工患病或非因工负伤，医疗期满后，不能从事原工作、\\n也不宜从事其他工作的；  \\n② 员工不能胜任工作，经过培训或调整工作岗位，仍不能胜\\n任工作的；  \\n③ 公司因经营调整必须精减人员时；  \\n2、员工出现下列情况之一的，公司予以解除劳动合同：  \\n① 在试用期被证明不符合录用条件的；  \\n② 严重违反公司规章制度的；  \\n③ 严重失职，营私舞弊，对本公司造成重大损害的；  \\n④ 被依法追究刑事责任的；  \\n⑤ 违反本手册第五章第四条第四条款所有 条例的。  \\n \\n第五节 离职', metadata={'source': 'test.pdf', 'page': 8}), Document(page_content='易速鲜花集团 \\n 9 1、员工在劳动合同期间内，因故不能或不愿再本公司继续工作的，\\n可以辞职。提出辞职，必须由本人提前三十天以书面形式递交《辞\\n职申请》，经所在部门领导批准后，交人力资源部审核，并按《劳\\n动合同》有关条款的规定，履行完相关职责和义务后，方可办理辞\\n职手续。  \\n2、试用期未满的员工辞职，须提前三天向其所在部门提出书面申\\n请，已被正式聘用的员工辞职，必须提前三十天向其所在部门提出\\n书面申请。  \\n3、辞职者未提交书面申请，部门主管有权暂不办理有关手续。凡\\n未按规定办理辞职手续而提前离岗者，按旷工论处，并以旷工条例\\n进行处罚。  \\n4、不论何种原因离职的员工，均须按公司相关规定办理离职移交\\n手续： \\n① 交接工作；  \\n② 交还所有公司资料、文件、胸牌及其他公物；  \\n③ 退还公司宿舍及房内公物；  \\n④ 报销公司帐目，归还公司欠款；  \\n⑤ 如果与公司签有其他协议，按其他协议约定办理。  \\n5、辞职前未按规定交接相关工作、办理规定手续又违反第四节有\\n关条款且特别严重而离岗的，公司将暂停发放员工工资，待交接完\\n后再发放，情节严重的还将通过有关部门追究其刑事和经济责任。  \\n6、离职手续办理完毕后，公司在劳动合同约定工资发放日向员工\\n支付最后结算工资。', metadata={'source': 'test.pdf', 'page': 9}), Document(page_content='易速鲜花集团 \\n 10  \\n \\n \\n第二章  员工规范  \\n第一节  行为规范  \\n1、本公司员工 须遵纪守法，遵守公司的各项规章制度，服从并执\\n行领导安排的工作，工作尽职尽责，不阳奉阴违、消极怠工、顶撞\\n领导，工作要力争尽善尽美。  \\n2、员工应自觉维护公司形象，不得有损害公司名誉的言行和举止。  \\n3、按时上、下班，自觉做好考勤打卡记录，不迟到、早退；不旷\\n工，不擅离职守。  \\n4、公司管理者应指导、团结、督促、激励下属，树立管理意识，\\n提高工作能力及服务质量。  \\n5、员工上班时间须着工作装，佩戴胸牌，衣着整洁，仪容仪表要\\n符合公司基本要求，如有违反，按照公司相关规定执行。  \\n6、胸牌佩戴在左胸口，胸牌如有遗失，应立即到人力资源部补办，\\n并交纳赔偿 及手续费（工本费），员工离职时必须将胸牌，手册等\\n证件、资料交回有关部门，否则将做出相应的经济赔偿。  \\n7、工作时间内，员工不得擅离工作岗位，不得在工作场所嬉戏、\\n打闹、做私活看与本岗位无关的书报、登陆与工作无关的网页等一\\n切与工作无关的行为。否则将按照公司相关规定处罚。', metadata={'source': 'test.pdf', 'page': 10}), Document(page_content='易速鲜花集团 \\n 11 8、员工不得冷落顶撞、刁难顾客，接待顾客时应一视同仁，不得\\n对顾客评头论足，做到文明礼貌待客。遇到顾客投诉应及时安抚顾\\n客，第一时间忙住解决，不能解决的报部门主管处理。  \\n9、每一位员工必须记住两条服务真理：  \\n第一条：顾客永远是对的。  \\n第二条：如果顾客错了，请参照第一条。  \\n10、员工如与顾客发生争吵，罚款 50--100元，动手打顾客者，直\\n接开除并追究损害公司形象的经济责任，情节严重者交司法机关依\\n法处理。  \\n11、讲究卫生，不随地吐痰，不乱扔杂物，不得在禁烟场所吸烟，\\n保持工作环境清洁。  \\n12、员工之间要团结协作、顾全大局，不得挑拨离间、制造事端，\\n不扯皮推诿。  \\n13、进入他人办公室前应先敲门，经同意后方可进入。离开时应随\\n手关门。  \\n14、要节约用水、用电、及相关办公品。  \\n15、员工对相关工作或他人意见持有异议，可直接同上级主管反\\n映，但不得终止工作；如确有问题，且在反映后不能得到及时解决\\n的，可越级或向相关部门反映。  \\n16、员工不得接受商户或顾客赠送的钱物等。  \\n17、员工在公司遇见顾客及上级时，应主动侧身让路并微笑行注目\\n礼。', metadata={'source': 'test.pdf', 'page': 11}), Document(page_content='易速鲜花集团 \\n 12 第二节  仪容仪表规范  \\n \\n一、 仪  容 \\n1. 发型要求  \\n头发要梳理整齐，男员工头发长度应适中，前不过眉、后不过\\n领、侧不过耳、呈现自然色；女员工头发长度不可过肩，过肩发需\\n束起来，不可散落，并用深色且式样简洁，大小不超过十公分的头\\n饰，呈现自然色。  \\n2. 面部要求  \\n① 男员工不留胡须，并保持脸部干净整洁；女员工须着淡妆\\n（至少涂有口红），但不可浓妆艳抹。  \\n② 眼睛近视的员工尽量配戴隐形眼镜，如必须配戴近视眼镜\\n的则眼镜款式要简单、大方。  \\n3. 手部要求  \\n① 指甲修剪整 齐、保持清洁，不得留长指甲。不可涂有色指\\n甲油。 \\n② 除了样式简洁的手表、结婚戒指、耳环（简单的、小的、\\n不晃动的耳环）外，不得在穿着制服时佩戴其它饰品。  \\n二、 仪  表 \\n1. 制服要求  \\n必须按规定穿着制服，保持整齐、清洁、熨烫平整、无破损，', metadata={'source': 'test.pdf', 'page': 12}), Document(page_content='易速鲜花集团 \\n 13 衣扣、裤扣要扣好。内衣与制服搭配得体。内衣的衣领和袖子等不\\n能露出制服。衬衣要干净，下摆扎进裤内。衣袖或裤管不可卷起，\\n工作证佩戴于前胸。  \\n2. 袜子要求  \\n① 男员工深色，与裤子、鞋颜色一致。  \\n② 女员工（穿裙子的）必须穿着肉色长筒丝袜，袜子不可破\\n洞、脱丝，袜口不可外露。  \\n③ 工作袜（指女员工穿着的肉色连裤丝袜 及羊毛袜）应保持\\n整洁。 \\n3. 鞋子要求  \\n穿黑色制式皮鞋，保持干净光亮，款式大方，系好鞋带。不可\\n穿凉鞋，女员工鞋跟应以 1－5cm高为宜。  \\n4. 个人卫生要求   \\n员工应保持个人清洁及口腔卫生，上班前不能饮酒，不能吃大\\n蒜、韭菜等有异味的食物，防止口臭；只能使用清淡香水，用量适\\n中，不能使客人感到刺鼻。  \\n5. 坐姿要求  \\n① 入座要轻缓，上身正直，抬头挺胸，双肩放松放平，双眼\\n平视，面带笑容。  \\n② 就座时不要把椅子坐满，坐椅子的三分之二，双膝并拢，\\n手自然放在膝上，当客人走来时，应立即起立，热情招呼。  \\n6. 站姿要求', metadata={'source': 'test.pdf', 'page': 13}), Document(page_content='易速鲜花集团 \\n 14 ① 挺胸、收腹，重心放在两个前脚掌，以防 止重心偏移。  \\n② 保持上体正直，两眼平视，环顾四周，嘴微闭，面带笑容。  \\n③ 双臂自然下垂或体前交叉，右手放在左手上。  \\n④ 女员工站立双脚呈“ V”字形，双膝靠拢，两脚跟靠紧。\\n男员工站立时双脚与肩同宽。  \\n⑤ 站累时，脚略微向后撤半步，但上体仍须保持正直，不可\\n把脚向前或向后伸得过多，甚至叉开很大。一旦客人走过来或有顾\\n盼之色，应立即上前热情招呼。  \\n7. 走姿要求  \\n① 行走时应挺胸、收腹、两眼平视前方，并用余光注意周围\\n客人，两臂自然下垂摆动。女员工 步伐细而密，每分钟行走约 125\\n至130步为宜，尽量走一条线。男员工步伐应有节奏，两脚并行两\\n条线，但两线尽量靠近，每分钟 120－125步为宜。  \\n② 行走时若遇上级或客人时，要点头致意问好。与上级、客\\n人同行至门前时应主动开门让他们先行，不能抢先而走。  \\n③ 引领客人时步速不能太快，应与客人保持 3－5步距离，\\n两三步回顾一下，环境条件允许的话尽量避免背对客人，而应侧身\\n45度，照顾客人向前行进。', metadata={'source': 'test.pdf', 'page': 14}), Document(page_content='易速鲜花集团 \\n 15 ④ 引领中遇到开门的处理：开门的方向与行走方向一致时，\\n应上前推开门，用手按住，侧身站在门旁，待客人进门后，轻轻关\\n门继续引领。开门的方向与行走方向相反时，应上前拉开门，用手\\n按住，侧身站在门旁，待客人进门后，自己再进去， 轻轻关上门，\\n继续引领。  \\n⑤ 引领中如遇到熟识的人，原则上点头致意，不与之交谈，\\n如确有急事要说时，应对客人说“对不起，请稍候”。  \\n8. 手势要求  \\n① 为客人指示方向时：使用右手，手心朝上，大拇指自然张\\n开，其它四指自然并拢，手臂略弯，伸向指示方向。指示方向时尽\\n量不要用左手，不能用食指，不能用目光示意，切勿用手指对客人\\n指指点点。  \\n② 递接物品：用双手为宜，不方便双手并用时，也应尽量采\\n用右手。以左手递物，通常被视为失礼之举。递给他人的物品，应\\n直接交至对方手中为好；不到万不得已，最好不要将所递的物品放\\n在别处。  \\n9. 微笑要求  \\n微笑地主动与客 人礼貌问候，回答客人提出的问题，与客人目\\n光相遇时，应微笑地点头致意。微笑时要自然、得体、亲切，不可\\n牵强附会。', metadata={'source': 'test.pdf', 'page': 15}), Document(page_content='易速鲜花集团 \\n 16  \\n \\n \\n第三节  个人修养  \\n公司员工不仅要参加公司组织的有关提升技能或素质的任何\\n培训，还应不断提高个人修养，不断开发自己，从中享受成功带来\\n的成就感。  \\n1、工作之余，从各方面了解社会情况和经济时事政治等知识。  \\n2、多了解自己负责的工作相关的业务知识，养成学习的习惯，具\\n备一定的学习能力，挖一口属于自己的井。  \\n3、把生活和工作理解成为一个学习、创新、创造意义的过程。  \\n4、注意个人的言行举止，与人交谈多用礼貌用语。  \\n5、保持良好心态，不骄 不躁，遇事冷静处理。', metadata={'source': 'test.pdf', 'page': 16}), Document(page_content='易速鲜花集团 \\n 17  \\n \\n \\n第三章 规范用语  \\n \\n一、早上上班时，员工与员工相遇，应微笑相互问候。规范用语：\\n“早上好！”。  \\n二、平常员工相遇时规范用语为“你好！”。  \\n三、员工若与上司相遇，员工先向上司问候，并在问候语前加上上\\n司的行政职务称谓。如：“某总，早上好！”“某经理，您好”  \\n四、迎宾用语：“早上好，欢迎光临！”  \\n五、送宾用语：“请慢走，欢迎下次光临！”  \\n六、园区遇到顾客：“您好，欢迎光临 易速鲜花 ” \\n七、会议用语：  \\n会前：主持人 -----“各位同事早上好（下午好）”  \\n参会人员 ----“好” 击掌三下  \\n会后：主持人 -----“会议到此结束，谢谢！”  \\n会议期间参会人员一律将手机调成静音或关机。  \\n八、电话用语规范：', metadata={'source': 'test.pdf', 'page': 17}), Document(page_content='易速鲜花集团 \\n 18 1、接电话时用语：“您好， 易速鲜花 某某部，请问您找谁？”  \\n2、挂电话时用语：“再见”或“再会”  \\n3、工作人员在和顾客交谈中如需接电话，应说：“对不起，我接\\n个电话！”  \\n九、商户营业员规范用语：  \\n1、当顾客进入自己 3米视线范围内时，应向顾客问候：“您好，\\n欢迎光临 ××” \\n2、顾客来到柜台前，应讲普通话、面带微笑，表情自然大方真诚，\\n并用轻柔、自然的规范用语，主动与顾客进行交谈。  \\n规范用语如下：  \\n① “您好，欢迎光临！”  \\n② “请问您需要帮助吗？”或“请问有什 么能帮您的吗？”  \\n③ “对不起，请稍后！”  \\n④ “对不起，让您久等了！”  \\n⑤ “谢谢您，欢迎下次光临！再见！”  \\n⑥ “请慢走，欢迎下次光临！”  \\n十、收银员规范用语：  \\n1、顾客交款时，收银员应主动热情地为顾客服务。  \\n2、认真核对价格、钱款和票据的真伪。收、退款应迅速、准确，\\n尽量缩短顾客等待的时间。', metadata={'source': 'test.pdf', 'page': 18}), Document(page_content='易速鲜花集团 \\n 19 3、收、退钱款时，应唱收唱付，并根据情况。使用规范用语： “您\\n好，请稍等。谢谢您：应收您 ××元，收您××元,找您××元，请收\\n好。”“对不起，让您久等了”“谢谢您，欢迎下次光临，再见”  \\n4、找零给顾客，应用双手递送到顾客手中，然后双手自然下垂到\\n大腿上，向顾客微微鞠躬微笑道别。用语：“再见！”“请慢走！”\\n“谢谢光临！”“欢迎再次光临！”  \\n十一、售票员规范用语：  \\n当顾客来到窗口时，售票人员应微笑热情为顾客服务。其标准用语\\n为： \\n1. “您好，欢光临临 易速鲜花 ，请问有什么能帮您的吗？”  \\n2. “您好，请稍等”  \\n3. “收您××元,找您××元，这是门票和找零，请收好”  \\n4. “对不起，让您久等了”  \\n十二、检票员规范用语：  \\n1、“您好，欢迎光临！”  \\n2、“您好，请出示下您的门票，好吗？谢谢！”  \\n3、“您好，这是您的门票，请收好”  \\n4、“您好，请后面排下对，好吗？谢谢！”  \\n5、“祝您玩得愉快！”', metadata={'source': 'test.pdf', 'page': 19}), Document(page_content='易速鲜花集团 \\n 20  \\n \\n \\n第四章 规章制度  \\n第一节 考勤制度  \\n一、工作时间 :  \\n行政班员工每周工作六天，每天 7.5小时，正常时间为上午\\n9:00--12:00,下午13:00--17:30，12：00--13:00为午餐时间。  \\n二、打卡:  \\n1、公司实行指纹打卡，员工每天上班、下班均须打卡。  \\n2、忘记打卡的员工 ,一个月有 3次机会到人事部申请《补刷卡申请\\n单》，需要其部门负责人签字后到人事部登记备案。  \\n三、公出: 一个工作日内的公出需在人事部填写《外出公干单》，\\n否则以旷工处理。  \\n四、迟到、早退和旷工的奖惩制度 : \\n1、迟到早退 : 上班9:00以后到达视为迟到，下班 5:20以前离开,\\n视为早退  \\n迟到或早退处罚细则 :   \\nA: 9:00- 9:10 到,即迟到 0-10分钟/次,扣款20元 \\nB: 9:11- 9:20 到,即迟到11-20分钟/次,扣款30元', metadata={'source': 'test.pdf', 'page': 20}), Document(page_content='易速鲜花集团 \\n 21 C: 9:20- 9:30 到,即迟到20-30分钟/次,扣款50元 \\nD: 9:30 以后,按旷工一天计  \\n        早退亦然，按上述规则实行  \\n注：若9：00-9：30间致电直接上级请假者，一个月可补假两次，\\n否则按上述规则处理。  \\n2、 旷工 \\n① 连续三个工作日无故缺勤，或未经批准休假者将被视为旷\\n工。直接主管将亲自联络本人查明原因， 并于满三天后的二天内交\\n出\"辞退处分报告 \"。 \\n② 在30天内未经批准缺勤总计 6天（48小时）者被视为旷\\n工，并予以辞退。  \\n五、加班  \\n公司原则上不提倡加班，如确实因工作需要加班的，须到人力\\n资源部填写《加班申请单》，经部门经理和总经理签字后交到人力\\n资源登记备案方可有效。  \\n \\n第二节  假别 \\n1、法定假期：按国家规定，员工每年享受 11天的法定假日，期间\\n照发工资。  \\n2、事假：员工有特殊情况需本人处理，需要请假的，必须到人力\\n资源部填写请假单，经相关领导签字批准后报人力资源部备案方可\\n有效，否则按旷工处理；员工请事假不满半天按半天计算，满半天\\n不满一天按一天计算，一个月请事假最多不得超过 10天，超过的', metadata={'source': 'test.pdf', 'page': 21}), Document(page_content='易速鲜花集团 \\n 22 （含10天）扣发当月薪资；全年累计事假不得超过 30天，否则按\\n离职处理。  \\n3、病假：员工因病（伤）需要休息的，必须有县级以上医院或公\\n司指定医院开具的病（伤）休证明、病历及就医发票等证件方能请\\n假。员工因病（伤）不能上班，必须在当天上班时间前书面或口头\\n通知部门领导及人力资源部，口头请的病假结束后上岗的当天，应\\n将领导签字的请假单和医院开具的证明及发票等证明送到人力资\\n源部，人力资源审核属实，病假期间的工资按基本工资的 80%计发。 \\n4、婚假：员工结婚享受 3天婚假。符合国家晚婚 （女性23岁，男\\n性25岁）条件并且是初婚的，再给假 12天，共计 15天，婚假含\\n公休假和法定假，假期内计发基本工资。  \\n5、产假：符合国家生育条件的，女员工生育享受 90天产假；符合\\n国家晚婚条件的，女员工享受生育假 120天，男员工配偶生育享受\\n7天陪护假，假期计发基本工资。  \\n6、丧假：员工只有直系亲属（祖父母、外祖父母、父母、子女、\\n配偶、配偶父母）去世时，可给丧假 3天，丧假期间计发基本工资。  \\n7、年休假：  员工（签定劳动合同）满 12个月，均可享受园区给予\\n的有薪年假。在园区工作满 1—5年者（含 5年），年休假 5天，工作\\n6-10年者年休假7天，工作 11-19年者年休假 10天，工作 20年以上\\n者年休假 15天。 \\n8、员工因工负伤，由所在部门立即通知公司相关主管部门，公司主管\\n部门当日报当地行政主管部门申请工伤认定， 经劳动行政部门认定后，\\n方可确认工伤。  \\n9、员工在公休日和法定假日因工作不能休假时，园区将按《劳动法》\\n给予调休、补休。公休日和法定假日加班补休，可冲抵符合手续的病、\\n事假。', metadata={'source': 'test.pdf', 'page': 22}), Document(page_content='易速鲜花集团 \\n 23 10、批假权限：  \\n① 主管级可批基层员工假一天。  \\n② 部门经理可批准本部门主管请假 2天，员工 3天假期，并报\\n人力资源部备案 . \\n③ 3天以上假期除本部门经理签字外，还须总经理签字后报人\\n事登记方可有 效。 \\n④ 符合规定的婚假、丧假、产假由部门负责人签批报人事备案。  \\n11、下列情况之一者，按旷工处理（旷工一日者，扣发三日工资；旷\\n工两日者扣发六日工资，连续旷工三日者，公司直接开除）  \\n① 不请假或请假未经批准，擅离工作岗位的；  \\n② 上班迟到 30分钟以上者，上班中私自离岗 30分钟以上者；  \\n③ 不服从分配、不接受任务、不听从指挥，经教育不改者；  \\n④ 工作时间干私活、无理取闹、纠缠领导、斗殴、吵架，妨碍\\n他人工作、干扰工作秩序，不听劝阻者。', metadata={'source': 'test.pdf', 'page': 23}), Document(page_content='易速鲜花集团 \\n 24  \\n \\n \\n第五章 奖惩制度  \\n一、奖惩基本原则：  \\n员工的奖惩分为物质奖励和精神奖励。物质奖励和精神 奖励根据\\n考核结果进行。处罚实行“以批评教育为主，以罚款为辅”的原则；\\n奖励实行“以精神奖励为主，物质奖励为辅”两种方式。  \\n物质奖励包括： 颁发奖金 （按加分方式奖励每分 5元） 、 实物奖励、\\n增加工资等形式。  \\n精神奖励分为：口头表扬、通报表扬、授予荣誉称号、晋升职位\\n等。其中荣誉称号包括： “年度最佳员工” 、 “年度优秀管理者”等。  \\n行政处罚分为：口头批评教育、通报批评、留职查看、开除等。  \\n二、奖励标准：  \\n1、凡在公司经营管理、提高服务质量等方面有较大贡献，成绩特别突\\n出者，加分 5-10分； \\n2、在公司管理、服务工作中成绩显著，受到顾客和 有关部门表扬，为\\n公司创造良好声誉者，口头表扬奖励 5分，书面表扬加 10分； \\n3、为了提高公司的经营管理水平、 提高服务质量提出合理化建议被采\\n纳后取得显著效果并带来经济效益者，加 20-40分； \\n4、按时完成公司下达年度、月度业绩指标，为公司提升业绩作出贡献\\n者，加5-10分；', metadata={'source': 'test.pdf', 'page': 24}), Document(page_content='易速鲜花集团 \\n 25 5、及时发现“隐患”并进行果断处理，在危急时刻为了保护他人生命\\n安全或公司财产不受损失、防止重大事故发生者，加 20-40分； \\n6、主动加班，为了公司做出贡献者，加 2-5分； \\n7、积极配合主管及其他部门工作，表现突出者，加 2-5； \\n8、在其他方面有显著成绩者。  \\n三、年度员工 奖励标准：  \\n“年度十佳优秀员工”奖 200分。 \\n四、惩处：为了规范公司员工的工作行为和纪律，维护公司各项规章\\n制度的严肃性，确保公司的工作效益和质量，保证公司各项工作的政\\n令畅通，对员工违反公司各项规章制度、准则的，将予以追究责任，\\n对违反国家法律、法规的，追究其相应的法律责任。  \\n1、员工出现下列情况之一者，扣 2-5分 \\n① 参加会议迟到者；  \\n② 上岗不佩戴工号牌、仪容仪表不合格者；  \\n③ 工作时间不适用普通话或对顾客不适用规范用语、服务不礼\\n貌者； \\n④ 言行不文明者；  \\n⑤ 无理拒绝公司保安人员正常检查者；  \\n⑥ 对主管检查工作、指出问题而不虚心接受 、故意顶撞者；  \\n⑦ 不爱惜公司财物，造成物料浪费者；  \\n⑧ 未经许可在规定时间段外就餐者；', metadata={'source': 'test.pdf', 'page': 25}), Document(page_content='易速鲜花集团 \\n 26 ⑨ 下班后未收拾办公桌、未关闭办公室、未关闭仓库、未断电\\n源者。 \\n2、员工出现下列情况之一者，扣 5-10分 \\n① 上班时间打瞌睡者；  \\n② 上班时间不按规定穿着工装者；  \\n③ 不服从工作安排或消极怠工者；  \\n④ 上、下班不打卡者；  \\n⑤ 未按公司要求明确知会顾客，引起顾客不满，造成顾客投诉\\n者； \\n⑥ 扰乱园区正常工作秩序者；  \\n⑦ 拒绝公司保安正常查验态度恶劣者；  \\n⑧ 工作时间饮酒或带醉意上班者；  \\n⑨ 未建立交、接班手续或交、接手续不完善及不遵守交、接班\\n手续者；  \\n⑩ 未经主管同意擅自调班者 ； \\n11 未经允许未参加会议者。  \\n3、员工出现下列情况之一者，扣 10-20分 \\n① 不爱惜公司财物者；  \\n② 员工之间发生吵架、斗殴者；  \\n③ 煽动或参与吵架、斗殴者；', metadata={'source': 'test.pdf', 'page': 26}), Document(page_content='易速鲜花集团 \\n 27 ④ 与顾客发生顶撞、争吵者；  \\n⑤ 擅离岗位者；  \\n⑥ 装病、骗取病假者；  \\n⑦ 私自动用公司或损坏园区安全消防设施者；  \\n⑧ 违反操作规程且造成一定后果者；  \\n⑨ 上班时间使用电脑做与工作无关的事，看与本岗位无关的书\\n报，所在办公室在场负责人及当事人同样受处罚；  \\n4、员工出现下列情况之一者，除扣除 20-40分，公司还将予以惩处，\\n并视情节轻重给予警告、开除等处分或予以辞退、解除劳动合同，并\\n追究其相应责任：  \\n① 污辱、谩骂、殴打顾客或同事者；  \\n② 偷盗公司或他人钱物者；  \\n③ 贪污挪用公款或受贿、索贿者；  \\n④ 服务态度恶劣、造成顾客重大投诉，严重损坏公司声誉者；  \\n⑤ 侵占货款、公物者；  \\n⑥ 玩忽职守，造成公司物、财产重大损失者；  \\n⑦ 无故旷工 3天（含3天）以上者；  \\n⑧ 未经许可，擅自向外提供公司的经营管理、人事、财务等资\\n料者； \\n⑨ 泄露公司机密、严重侵害公司利益者；  \\n⑩ 同时与其他单位建立劳动关系或在其他单位做兼职者；', metadata={'source': 'test.pdf', 'page': 27}), Document(page_content='易速鲜花集团 \\n 28 11 由于行业特殊性，当月无故造成空岗半小时并累计达 3次以\\n上者； \\n12 擅自搬进或使用危险物品者。  \\n五、奖惩规定  \\n（一）奖惩程序  \\n1、对员工的加减分奖惩由部门主 管开具奖罚单；  \\n2、对主管的加减分奖惩由部门领导开具奖罚单；  \\n3、对部门领导的加减分奖惩由总经理开具奖罚单；  \\n4、评选优秀员工以及授予荣誉称号，由部门主管提名，经有关部门审\\n查后报总经理批准；  \\n5、晋升工资、职务，由部门主管领导和人力资源部每年年底或定期进\\n行考评，对特别优秀的管理人员报总经理审批。  \\n（二）奖惩权限  \\n1、班长级管理人员奖惩权限 1-5分； \\n2、主管级管理人员奖惩权限 1-20分； \\n3、经理级管理人员奖惩权限 1-40分； \\n4、副总经理级管理人员奖惩权限 1-200分； \\n5、副总经理级权限以外的奖惩由公司总经理签批。  \\n（三）同一错误当月超过三次违反或累 计超过五次违反者，主管有权\\n给予双倍处罚。', metadata={'source': 'test.pdf', 'page': 28}), Document(page_content='易速鲜花集团 \\n 29 （四）被奖惩者在接到奖罚单后的五个工作日内，到财务领取奖金或\\n上交罚款，否则超过时限的，奖单不予兑现，罚单将由财务部通知开\\n罚单者，被处罚者无正当理由的，由开罚单者通知财务部给予被处罚\\n者加至三倍的处罚。  \\n \\n \\n第六章  安全条例  \\n1、员工必须严格遵守公司的安全、保卫、保密规定，不得将工作中所\\n接触到的保密材料向外泄露。  \\n2、对易燃、易爆物品必须妥善保管，爱护消防设备，不得擅自动用、\\n挪用各种消防设施、设备和消防器材。  \\n3、注意防火、防盗、防破坏，发现异常情况或事故隐患时，迅速报告\\n公司保卫部门， 立即进行巡查，确保及时消除各种事故隐患。  \\n4、严禁私自安装各种电器盒乱接、乱拉电线；  \\n5、工作（营业）结束后，员工必须认真检查本岗位水、电、气等设施，\\n关闭好各种电源等后方可离开。如发现设备故障必须及时报告，予以\\n检修，现金票证等必须放入保险柜中，关好门窗，确保安全。  \\n6、员工发现公司内有可疑或不法行为的人或事， 必须立即报告保卫部\\n门；当发现案件或突发事故时，要沉着冷静，采取有效措施（治安案\\n件要保护好现场以备调查） 。并迅速报告公司保卫部门。  \\n7、为确保公司安全，必要时公司保安人员有权对员工携带进、出的包\\n裹、物品进行安全检查，员工 不得拒绝。  \\n8、员工在工作中发生意外事故或工伤事故时，应及时报告部门主管，\\n部门主管报告公司有关部门，经调查后及时报告公司总经理。', metadata={'source': 'test.pdf', 'page': 29}), Document(page_content='易速鲜花集团 \\n 30 9、员工不准在公司规定的禁烟区内吸烟，工作时间内严禁打闹、嬉戏\\n或恶作剧。  \\n10、员工都要接受公司的消防安全训练，熟练掌握消防器材的使用，\\n发生火警时要及时报警，要会及时扑灭初起火灾，会及时疏散人员及\\n物资等。  \\n11、员工要熟练本工作区域或周围区域的灭火器材的情况，要确保本\\n区域安全通道的畅通和消防设施的完好。未经许可，安全通道严禁堆\\n放物品，各种消防器材不得挪动或挪作他用。  \\n12、在紧急情况下，公司员工必须高度服 从主管部门领导的指挥，全\\n力保护顾客人身和公司财产的安全。  \\n13、为防备紧急情况出现，员工必须保持镇静，并就近拨打报警电话，\\n报告火源位置，并注意疏散人员。如火势不大，应设法使用灭火器材\\n将火扑灭。  \\n14、发现火警，报警电话： 119.', metadata={'source': 'test.pdf', 'page': 30}), Document(page_content='易速鲜花集团 \\n 31  \\n \\n \\n第七章   附  则 \\n1、本《员工手册》解释权属贵州 易速鲜花 旅游文化股份有限公司人力\\n资源部。  \\n2、公司有权根据工作所需要对本《员工手册》有关内容修订，修订时\\n公司将以适当方式向员工告知。  \\n3、本《员工手册》若有与有关国家法律法规不一致的，按国家有关法\\n律法规执行。  \\n4、员工离职时，须将本手 册交回人力资源部，否则将罚款 50元。 \\n5、本《员工手册》于二〇一四年四月二十四日第二次修订。', metadata={'source': 'test.pdf', 'page': 31})]\n"
     ]
    }
   ],
   "source": [
    "from langchain_community.document_loaders import PyPDFLoader\n",
    "\n",
    "loader = PyPDFLoader(\"test.pdf\")\n",
    "pages = loader.load_and_split()\n",
    "\n",
    "print(len(pages))\n",
    "print(pages)"
   ]
  },
  {
   "cell_type": "markdown",
   "metadata": {},
   "source": [
    "### 文档分割\n"
   ]
  },
  {
   "cell_type": "markdown",
   "metadata": {},
   "source": [
    "**为了使文档存储和解析更加方便和语义化，需要对文档进行分割**\n"
   ]
  },
  {
   "cell_type": "markdown",
   "metadata": {},
   "source": [
    "工作原理：\n",
    "\n",
    "- 把文本分成小块，语义上有意义的块(通常是句子)。\n",
    "\n",
    "- 开始将这些小块组合成一个更大的块，直到达到一定的大小(通过某个函数衡量)。\n",
    "\n",
    "- 一旦达到这个大小，就将该块作为自己的文本块，然后开始创建具有一些重叠的新文本块(以保持块之间的上下文)。\n"
   ]
  },
  {
   "cell_type": "markdown",
   "metadata": {},
   "source": [
    "#### 按字符递归分割 RecursiveCharacterTextSplitter\n"
   ]
  },
  {
   "cell_type": "code",
   "execution_count": 14,
   "metadata": {},
   "outputs": [],
   "source": [
    "! pip install -qU langchain-text-splitters"
   ]
  },
  {
   "cell_type": "code",
   "execution_count": 45,
   "metadata": {},
   "outputs": [
    {
     "name": "stdout",
     "output_type": "stream",
     "text": [
      "11\n",
      "[Document(page_content='这是长文本块'), Document(page_content='\\n这里是: 第一段第一段第一段第一段第一段第一段第一段第一段第一段第一段第一段'), Document(page_content='\\n这里是: 第二段第二段第二段第二段第二段第二段第二段第二段第二段第二段第二段'), Document(page_content='\\n这里是: 第三段第三段第三段第三段第三段第三段第三段第三段第三段第三段第三段'), Document(page_content='\\n这里是: 第四段第四段第四段第四段第四段第四段第四段第四段第四段第四段第四段'), Document(page_content='\\n这里是: 第五段第五段第五段第五段第五段第五段第五段第五段第五段第五段第五段'), Document(page_content='\\n这里是: 第六段第六段第六段第六段第六段第六段第六段第六段第六段第六段第六段'), Document(page_content='\\n这里是: 第七段第七段第七段第七段第七段第七段第七段第七段第七段第七段第七段'), Document(page_content='\\n这里是: 第八段第八段第八段第八段第八段第八段第八段第八段第八段第八段第八段'), Document(page_content='\\n这里是: 第九段第九段第九段第九段第九段第九段第九段第九段第九段第九段第九段'), Document(page_content='\\n这里是: 第十段第十段第十段第十段第十段第十段第十段第十段第十段第十段第十段')]\n"
     ]
    }
   ],
   "source": [
    "from langchain_text_splitters import RecursiveCharacterTextSplitter\n",
    "\n",
    "# This is a long document we can split up.\n",
    "with open(\"index.txt\") as f:\n",
    "    state_of_the_union = f.read()\n",
    "\n",
    "text_splitter = RecursiveCharacterTextSplitter(\n",
    "    separators=[\n",
    "        \"\\n\\n\",\n",
    "        \"\\n\",\n",
    "    ],\n",
    "    chunk_size=10,\n",
    "    chunk_overlap=2,\n",
    "    length_function=len,\n",
    "    is_separator_regex=False,\n",
    ")\n",
    "\n",
    "texts = text_splitter.create_documents([state_of_the_union])\n",
    "print(len(texts))\n",
    "print(texts)"
   ]
  },
  {
   "cell_type": "markdown",
   "metadata": {},
   "source": [
    "#### 按字符串分割"
   ]
  },
  {
   "cell_type": "code",
   "execution_count": 52,
   "metadata": {},
   "outputs": [
    {
     "name": "stderr",
     "output_type": "stream",
     "text": [
      "Created a chunk of size 125, which is longer than the specified 100\n",
      "Created a chunk of size 105, which is longer than the specified 100\n"
     ]
    },
    {
     "name": "stdout",
     "output_type": "stream",
     "text": [
      "38\n",
      "page_content='蒂法介绍\\n蒂法·洛克哈特(日语:ティファ・ロックハート，Tifa Rokkuhāto，英语:Tifa Lockhart)为电子游戏《最终幻想VII》及《最终幻想VII补完计划》相关作品中的虚构⻆ 色，由\\U0010fc00村哲也创作和设计，此后也在多个游戏中客串登场' metadata={'start_index': 1}\n"
     ]
    }
   ],
   "source": [
    "from langchain.text_splitter import CharacterTextSplitter\n",
    "\n",
    "#加载要切分的文档\n",
    "with open(\"test.txt\") as f:\n",
    "    zuizhonghuanxiang = f.read()\n",
    "\n",
    "#初始化切分器\n",
    "text_splitter = CharacterTextSplitter(\n",
    "    separator=\"。\",#切割的标志字符，默认是\\n\\n\n",
    "    chunk_size=100,#切分的文本块大小，一般通过长度函数计算\n",
    "    chunk_overlap=20,#切分的文本块重叠大小，一般通过长度函数计算\n",
    "    length_function=len,#长度函数,也可以传递tokenize函数\n",
    "    add_start_index=True,#是否添加起始索引\n",
    "    is_separator_regex=False,#是否是正则表达式\n",
    ")\n",
    "text = text_splitter.create_documents([zuizhonghuanxiang])\n",
    "\n",
    "print(len(text))\n",
    "print(text[0])"
   ]
  },
  {
   "cell_type": "markdown",
   "metadata": {},
   "source": [
    "#### 按语义块分割 Semantic Chunking\n"
   ]
  },
  {
   "cell_type": "code",
   "execution_count": 40,
   "metadata": {},
   "outputs": [],
   "source": [
    "! pip install --quiet langchain_experimental langchain_openai"
   ]
  },
  {
   "cell_type": "code",
   "execution_count": null,
   "metadata": {},
   "outputs": [],
   "source": [
    "from langchain_experimental.text_splitter import SemanticChunker\n",
    "# This is a long document we can split up.\n",
    "with open(\"mit.txt\") as f:\n",
    "    state_of_the_union = f.read()\n",
    "    \n",
    "from langchain_openai.embeddings import OpenAIEmbeddings\n",
    "\n",
    "text_splitter = SemanticChunker(OpenAIEmbeddings())\n",
    "docs = text_splitter.create_documents([state_of_the_union])\n",
    "\n",
    "print(docs[0].page_content)"
   ]
  },
  {
   "cell_type": "markdown",
   "metadata": {},
   "source": [
    "#### 文档的简练、清晰"
   ]
  },
  {
   "cell_type": "code",
   "execution_count": 2,
   "metadata": {},
   "outputs": [
    {
     "name": "stdout",
     "output_type": "stream",
     "text": [
      "Requirement already satisfied: doctran in /Users/barry/.pyenv/versions/3.12.2/envs/langchain/lib/python3.12/site-packages (0.0.14)\n",
      "Requirement already satisfied: lxml<5.0.0,>=4.9.2 in /Users/barry/.pyenv/versions/3.12.2/envs/langchain/lib/python3.12/site-packages (from doctran) (4.9.4)\n",
      "Requirement already satisfied: openai<0.28.0,>=0.27.8 in /Users/barry/.pyenv/versions/3.12.2/envs/langchain/lib/python3.12/site-packages (from doctran) (0.27.10)\n",
      "Requirement already satisfied: presidio-analyzer<3.0.0,>=2.2.33 in /Users/barry/.pyenv/versions/3.12.2/envs/langchain/lib/python3.12/site-packages (from doctran) (2.2.354)\n",
      "Requirement already satisfied: presidio-anonymizer<3.0.0,>=2.2.33 in /Users/barry/.pyenv/versions/3.12.2/envs/langchain/lib/python3.12/site-packages (from doctran) (2.2.354)\n",
      "Requirement already satisfied: pydantic<2.0.0,>=1.10.9 in /Users/barry/.pyenv/versions/3.12.2/envs/langchain/lib/python3.12/site-packages (from doctran) (1.10.15)\n",
      "Requirement already satisfied: spacy<4.0.0,>=3.5.4 in /Users/barry/.pyenv/versions/3.12.2/envs/langchain/lib/python3.12/site-packages (from doctran) (3.7.4)\n",
      "Requirement already satisfied: tiktoken<0.6.0,>=0.5.0 in /Users/barry/.pyenv/versions/3.12.2/envs/langchain/lib/python3.12/site-packages (from doctran) (0.5.2)\n",
      "Requirement already satisfied: requests>=2.20 in /Users/barry/.pyenv/versions/3.12.2/envs/langchain/lib/python3.12/site-packages (from openai<0.28.0,>=0.27.8->doctran) (2.31.0)\n",
      "Requirement already satisfied: tqdm in /Users/barry/.pyenv/versions/3.12.2/envs/langchain/lib/python3.12/site-packages (from openai<0.28.0,>=0.27.8->doctran) (4.66.2)\n",
      "Requirement already satisfied: aiohttp in /Users/barry/.pyenv/versions/3.12.2/envs/langchain/lib/python3.12/site-packages (from openai<0.28.0,>=0.27.8->doctran) (3.9.5)\n",
      "Requirement already satisfied: regex in /Users/barry/.pyenv/versions/3.12.2/envs/langchain/lib/python3.12/site-packages (from presidio-analyzer<3.0.0,>=2.2.33->doctran) (2024.4.28)\n",
      "Requirement already satisfied: tldextract in /Users/barry/.pyenv/versions/3.12.2/envs/langchain/lib/python3.12/site-packages (from presidio-analyzer<3.0.0,>=2.2.33->doctran) (5.1.2)\n",
      "Requirement already satisfied: pyyaml in /Users/barry/.pyenv/versions/3.12.2/envs/langchain/lib/python3.12/site-packages (from presidio-analyzer<3.0.0,>=2.2.33->doctran) (6.0.1)\n",
      "Requirement already satisfied: phonenumbers<9.0.0,>=8.12 in /Users/barry/.pyenv/versions/3.12.2/envs/langchain/lib/python3.12/site-packages (from presidio-analyzer<3.0.0,>=2.2.33->doctran) (8.13.36)\n",
      "Requirement already satisfied: pycryptodome>=3.10.1 in /Users/barry/.pyenv/versions/3.12.2/envs/langchain/lib/python3.12/site-packages (from presidio-anonymizer<3.0.0,>=2.2.33->doctran) (3.20.0)\n",
      "Requirement already satisfied: typing-extensions>=4.2.0 in /Users/barry/.pyenv/versions/3.12.2/envs/langchain/lib/python3.12/site-packages (from pydantic<2.0.0,>=1.10.9->doctran) (4.11.0)\n",
      "Requirement already satisfied: spacy-legacy<3.1.0,>=3.0.11 in /Users/barry/.pyenv/versions/3.12.2/envs/langchain/lib/python3.12/site-packages (from spacy<4.0.0,>=3.5.4->doctran) (3.0.12)\n",
      "Requirement already satisfied: spacy-loggers<2.0.0,>=1.0.0 in /Users/barry/.pyenv/versions/3.12.2/envs/langchain/lib/python3.12/site-packages (from spacy<4.0.0,>=3.5.4->doctran) (1.0.5)\n",
      "Requirement already satisfied: murmurhash<1.1.0,>=0.28.0 in /Users/barry/.pyenv/versions/3.12.2/envs/langchain/lib/python3.12/site-packages (from spacy<4.0.0,>=3.5.4->doctran) (1.0.10)\n",
      "Requirement already satisfied: cymem<2.1.0,>=2.0.2 in /Users/barry/.pyenv/versions/3.12.2/envs/langchain/lib/python3.12/site-packages (from spacy<4.0.0,>=3.5.4->doctran) (2.0.8)\n",
      "Requirement already satisfied: preshed<3.1.0,>=3.0.2 in /Users/barry/.pyenv/versions/3.12.2/envs/langchain/lib/python3.12/site-packages (from spacy<4.0.0,>=3.5.4->doctran) (3.0.9)\n",
      "Requirement already satisfied: thinc<8.3.0,>=8.2.2 in /Users/barry/.pyenv/versions/3.12.2/envs/langchain/lib/python3.12/site-packages (from spacy<4.0.0,>=3.5.4->doctran) (8.2.3)\n",
      "Requirement already satisfied: wasabi<1.2.0,>=0.9.1 in /Users/barry/.pyenv/versions/3.12.2/envs/langchain/lib/python3.12/site-packages (from spacy<4.0.0,>=3.5.4->doctran) (1.1.2)\n",
      "Requirement already satisfied: srsly<3.0.0,>=2.4.3 in /Users/barry/.pyenv/versions/3.12.2/envs/langchain/lib/python3.12/site-packages (from spacy<4.0.0,>=3.5.4->doctran) (2.4.8)\n",
      "Requirement already satisfied: catalogue<2.1.0,>=2.0.6 in /Users/barry/.pyenv/versions/3.12.2/envs/langchain/lib/python3.12/site-packages (from spacy<4.0.0,>=3.5.4->doctran) (2.0.10)\n",
      "Requirement already satisfied: weasel<0.4.0,>=0.1.0 in /Users/barry/.pyenv/versions/3.12.2/envs/langchain/lib/python3.12/site-packages (from spacy<4.0.0,>=3.5.4->doctran) (0.3.4)\n",
      "Requirement already satisfied: typer<0.10.0,>=0.3.0 in /Users/barry/.pyenv/versions/3.12.2/envs/langchain/lib/python3.12/site-packages (from spacy<4.0.0,>=3.5.4->doctran) (0.9.4)\n",
      "Requirement already satisfied: smart-open<7.0.0,>=5.2.1 in /Users/barry/.pyenv/versions/3.12.2/envs/langchain/lib/python3.12/site-packages (from spacy<4.0.0,>=3.5.4->doctran) (6.4.0)\n",
      "Requirement already satisfied: jinja2 in /Users/barry/.pyenv/versions/3.12.2/envs/langchain/lib/python3.12/site-packages (from spacy<4.0.0,>=3.5.4->doctran) (3.1.3)\n",
      "Requirement already satisfied: setuptools in /Users/barry/.pyenv/versions/3.12.2/envs/langchain/lib/python3.12/site-packages (from spacy<4.0.0,>=3.5.4->doctran) (69.5.1)\n",
      "Requirement already satisfied: packaging>=20.0 in /Users/barry/.pyenv/versions/3.12.2/envs/langchain/lib/python3.12/site-packages (from spacy<4.0.0,>=3.5.4->doctran) (23.2)\n",
      "Requirement already satisfied: langcodes<4.0.0,>=3.2.0 in /Users/barry/.pyenv/versions/3.12.2/envs/langchain/lib/python3.12/site-packages (from spacy<4.0.0,>=3.5.4->doctran) (3.4.0)\n",
      "Requirement already satisfied: numpy>=1.19.0 in /Users/barry/.pyenv/versions/3.12.2/envs/langchain/lib/python3.12/site-packages (from spacy<4.0.0,>=3.5.4->doctran) (1.26.4)\n",
      "Requirement already satisfied: language-data>=1.2 in /Users/barry/.pyenv/versions/3.12.2/envs/langchain/lib/python3.12/site-packages (from langcodes<4.0.0,>=3.2.0->spacy<4.0.0,>=3.5.4->doctran) (1.2.0)\n",
      "Requirement already satisfied: charset-normalizer<4,>=2 in /Users/barry/.pyenv/versions/3.12.2/envs/langchain/lib/python3.12/site-packages (from requests>=2.20->openai<0.28.0,>=0.27.8->doctran) (3.3.2)\n",
      "Requirement already satisfied: idna<4,>=2.5 in /Users/barry/.pyenv/versions/3.12.2/envs/langchain/lib/python3.12/site-packages (from requests>=2.20->openai<0.28.0,>=0.27.8->doctran) (3.7)\n",
      "Requirement already satisfied: urllib3<3,>=1.21.1 in /Users/barry/.pyenv/versions/3.12.2/envs/langchain/lib/python3.12/site-packages (from requests>=2.20->openai<0.28.0,>=0.27.8->doctran) (2.2.1)\n",
      "Requirement already satisfied: certifi>=2017.4.17 in /Users/barry/.pyenv/versions/3.12.2/envs/langchain/lib/python3.12/site-packages (from requests>=2.20->openai<0.28.0,>=0.27.8->doctran) (2024.2.2)\n",
      "Requirement already satisfied: blis<0.8.0,>=0.7.8 in /Users/barry/.pyenv/versions/3.12.2/envs/langchain/lib/python3.12/site-packages (from thinc<8.3.0,>=8.2.2->spacy<4.0.0,>=3.5.4->doctran) (0.7.11)\n",
      "Requirement already satisfied: confection<1.0.0,>=0.0.1 in /Users/barry/.pyenv/versions/3.12.2/envs/langchain/lib/python3.12/site-packages (from thinc<8.3.0,>=8.2.2->spacy<4.0.0,>=3.5.4->doctran) (0.1.4)\n",
      "Requirement already satisfied: click<9.0.0,>=7.1.1 in /Users/barry/.pyenv/versions/3.12.2/envs/langchain/lib/python3.12/site-packages (from typer<0.10.0,>=0.3.0->spacy<4.0.0,>=3.5.4->doctran) (8.1.7)\n",
      "Requirement already satisfied: cloudpathlib<0.17.0,>=0.7.0 in /Users/barry/.pyenv/versions/3.12.2/envs/langchain/lib/python3.12/site-packages (from weasel<0.4.0,>=0.1.0->spacy<4.0.0,>=3.5.4->doctran) (0.16.0)\n",
      "Requirement already satisfied: aiosignal>=1.1.2 in /Users/barry/.pyenv/versions/3.12.2/envs/langchain/lib/python3.12/site-packages (from aiohttp->openai<0.28.0,>=0.27.8->doctran) (1.3.1)\n",
      "Requirement already satisfied: attrs>=17.3.0 in /Users/barry/.pyenv/versions/3.12.2/envs/langchain/lib/python3.12/site-packages (from aiohttp->openai<0.28.0,>=0.27.8->doctran) (23.2.0)\n",
      "Requirement already satisfied: frozenlist>=1.1.1 in /Users/barry/.pyenv/versions/3.12.2/envs/langchain/lib/python3.12/site-packages (from aiohttp->openai<0.28.0,>=0.27.8->doctran) (1.4.1)\n",
      "Requirement already satisfied: multidict<7.0,>=4.5 in /Users/barry/.pyenv/versions/3.12.2/envs/langchain/lib/python3.12/site-packages (from aiohttp->openai<0.28.0,>=0.27.8->doctran) (6.0.5)\n",
      "Requirement already satisfied: yarl<2.0,>=1.0 in /Users/barry/.pyenv/versions/3.12.2/envs/langchain/lib/python3.12/site-packages (from aiohttp->openai<0.28.0,>=0.27.8->doctran) (1.9.4)\n",
      "Requirement already satisfied: MarkupSafe>=2.0 in /Users/barry/.pyenv/versions/3.12.2/envs/langchain/lib/python3.12/site-packages (from jinja2->spacy<4.0.0,>=3.5.4->doctran) (2.1.5)\n",
      "Requirement already satisfied: requests-file>=1.4 in /Users/barry/.pyenv/versions/3.12.2/envs/langchain/lib/python3.12/site-packages (from tldextract->presidio-analyzer<3.0.0,>=2.2.33->doctran) (2.0.0)\n",
      "Requirement already satisfied: filelock>=3.0.8 in /Users/barry/.pyenv/versions/3.12.2/envs/langchain/lib/python3.12/site-packages (from tldextract->presidio-analyzer<3.0.0,>=2.2.33->doctran) (3.14.0)\n",
      "Requirement already satisfied: marisa-trie>=0.7.7 in /Users/barry/.pyenv/versions/3.12.2/envs/langchain/lib/python3.12/site-packages (from language-data>=1.2->langcodes<4.0.0,>=3.2.0->spacy<4.0.0,>=3.5.4->doctran) (1.1.0)\n",
      "Collecting dotenv\n",
      "  Using cached dotenv-0.0.5.tar.gz (2.4 kB)\n",
      "  Installing build dependencies ... \u001b[?25ldone\n",
      "\u001b[?25h  Getting requirements to build wheel ... \u001b[?25ldone\n",
      "\u001b[?25h  Installing backend dependencies ... \u001b[?25lerror\n",
      "  \u001b[1;31merror\u001b[0m: \u001b[1msubprocess-exited-with-error\u001b[0m\n",
      "  \n",
      "  \u001b[31m×\u001b[0m \u001b[32mpip subprocess to install backend dependencies\u001b[0m did not run successfully.\n",
      "  \u001b[31m│\u001b[0m exit code: \u001b[1;36m1\u001b[0m\n",
      "  \u001b[31m╰─>\u001b[0m \u001b[31m[31 lines of output]\u001b[0m\n",
      "  \u001b[31m   \u001b[0m Collecting distribute\n",
      "  \u001b[31m   \u001b[0m   Using cached distribute-0.7.3.zip (145 kB)\n",
      "  \u001b[31m   \u001b[0m   Installing build dependencies: started\n",
      "  \u001b[31m   \u001b[0m   Installing build dependencies: finished with status 'done'\n",
      "  \u001b[31m   \u001b[0m   Getting requirements to build wheel: started\n",
      "  \u001b[31m   \u001b[0m   Getting requirements to build wheel: finished with status 'done'\n",
      "  \u001b[31m   \u001b[0m   Installing backend dependencies: started\n",
      "  \u001b[31m   \u001b[0m   Installing backend dependencies: finished with status 'done'\n",
      "  \u001b[31m   \u001b[0m   Preparing metadata (pyproject.toml): started\n",
      "  \u001b[31m   \u001b[0m   Preparing metadata (pyproject.toml): finished with status 'error'\n",
      "  \u001b[31m   \u001b[0m   \u001b[1;31merror\u001b[0m: \u001b[1msubprocess-exited-with-error\u001b[0m\n",
      "  \u001b[31m   \u001b[0m \n",
      "  \u001b[31m   \u001b[0m   \u001b[31m×\u001b[0m \u001b[32mPreparing metadata \u001b[0m\u001b[1;32m(\u001b[0m\u001b[32mpyproject.toml\u001b[0m\u001b[1;32m)\u001b[0m did not run successfully.\n",
      "  \u001b[31m   \u001b[0m   \u001b[31m│\u001b[0m exit code: \u001b[1;36m1\u001b[0m\n",
      "  \u001b[31m   \u001b[0m   \u001b[31m╰─>\u001b[0m \u001b[31m[6 lines of output]\u001b[0m\n",
      "  \u001b[31m   \u001b[0m   \u001b[31m   \u001b[0m usage: setup.py [global_opts] cmd1 [cmd1_opts] [cmd2 [cmd2_opts] ...]\n",
      "  \u001b[31m   \u001b[0m   \u001b[31m   \u001b[0m    or: setup.py --help [cmd1 cmd2 ...]\n",
      "  \u001b[31m   \u001b[0m   \u001b[31m   \u001b[0m    or: setup.py --help-commands\n",
      "  \u001b[31m   \u001b[0m   \u001b[31m   \u001b[0m    or: setup.py cmd --help\n",
      "  \u001b[31m   \u001b[0m   \u001b[31m   \u001b[0m\n",
      "  \u001b[31m   \u001b[0m   \u001b[31m   \u001b[0m error: invalid command 'dist_info'\n",
      "  \u001b[31m   \u001b[0m   \u001b[31m   \u001b[0m \u001b[31m[end of output]\u001b[0m\n",
      "  \u001b[31m   \u001b[0m \n",
      "  \u001b[31m   \u001b[0m   \u001b[1;35mnote\u001b[0m: This error originates from a subprocess, and is likely not a problem with pip.\n",
      "  \u001b[31m   \u001b[0m \u001b[1;31merror\u001b[0m: \u001b[1mmetadata-generation-failed\u001b[0m\n",
      "  \u001b[31m   \u001b[0m \n",
      "  \u001b[31m   \u001b[0m \u001b[31m×\u001b[0m Encountered error while generating package metadata.\n",
      "  \u001b[31m   \u001b[0m \u001b[31m╰─>\u001b[0m See above for output.\n",
      "  \u001b[31m   \u001b[0m \n",
      "  \u001b[31m   \u001b[0m \u001b[1;35mnote\u001b[0m: This is an issue with the package mentioned above, not pip.\n",
      "  \u001b[31m   \u001b[0m \u001b[1;36mhint\u001b[0m: See above for details.\n",
      "  \u001b[31m   \u001b[0m \u001b[31m[end of output]\u001b[0m\n",
      "  \n",
      "  \u001b[1;35mnote\u001b[0m: This error originates from a subprocess, and is likely not a problem with pip.\n",
      "\u001b[?25h\u001b[1;31merror\u001b[0m: \u001b[1msubprocess-exited-with-error\u001b[0m\n",
      "\n",
      "\u001b[31m×\u001b[0m \u001b[32mpip subprocess to install backend dependencies\u001b[0m did not run successfully.\n",
      "\u001b[31m│\u001b[0m exit code: \u001b[1;36m1\u001b[0m\n",
      "\u001b[31m╰─>\u001b[0m See above for output.\n",
      "\n",
      "\u001b[1;35mnote\u001b[0m: This error originates from a subprocess, and is likely not a problem with pip.\n"
     ]
    }
   ],
   "source": [
    "! pip install doctran\n",
    "! pip install dotenv"
   ]
  },
  {
   "cell_type": "code",
   "execution_count": 4,
   "metadata": {},
   "outputs": [],
   "source": [
    "content = \"\"\"[Generated with ChatGPT]\n",
    "\n",
    "Confidential Document - For Internal Use Only\n",
    "\n",
    "Date: July 1, 2023\n",
    "\n",
    "Subject: Updates and Discussions on Various Topics\n",
    "\n",
    "Dear Team,\n",
    "\n",
    "I hope this email finds you well. In this document, I would like to provide you with some important updates and discuss various topics that require our attention. Please treat the information contained herein as highly confidential.\n",
    "\n",
    "Security and Privacy Measures\n",
    "As part of our ongoing commitment to ensure the security and privacy of our customers' data, we have implemented robust measures across all our systems. We would like to commend John Doe (email: john.doe@example.com) from the IT department for his diligent work in enhancing our network security. Moving forward, we kindly remind everyone to strictly adhere to our data protection policies and guidelines. Additionally, if you come across any potential security risks or incidents, please report them immediately to our dedicated team at security@example.com.\n",
    "\n",
    "HR Updates and Employee Benefits\n",
    "Recently, we welcomed several new team members who have made significant contributions to their respective departments. I would like to recognize Jane Smith (SSN: 049-45-5928) for her outstanding performance in customer service. Jane has consistently received positive feedback from our clients. Furthermore, please remember that the open enrollment period for our employee benefits program is fast approaching. Should you have any questions or require assistance, please contact our HR representative, Michael Johnson (phone: 418-492-3850, email: michael.johnson@example.com).\n",
    "\n",
    "Marketing Initiatives and Campaigns\n",
    "Our marketing team has been actively working on developing new strategies to increase brand awareness and drive customer engagement. We would like to thank Sarah Thompson (phone: 415-555-1234) for her exceptional efforts in managing our social media platforms. Sarah has successfully increased our follower base by 20% in the past month alone. Moreover, please mark your calendars for the upcoming product launch event on July 15th. We encourage all team members to attend and support this exciting milestone for our company.\n",
    "\n",
    "Research and Development Projects\n",
    "In our pursuit of innovation, our research and development department has been working tirelessly on various projects. I would like to acknowledge the exceptional work of David Rodriguez (email: david.rodriguez@example.com) in his role as project lead. David's contributions to the development of our cutting-edge technology have been instrumental. Furthermore, we would like to remind everyone to share their ideas and suggestions for potential new projects during our monthly R&D brainstorming session, scheduled for July 10th.\n",
    "\n",
    "Please treat the information in this document with utmost confidentiality and ensure that it is not shared with unauthorized individuals. If you have any questions or concerns regarding the topics discussed, please do not hesitate to reach out to me directly.\n",
    "\n",
    "Thank you for your attention, and let's continue to work together to achieve our goals.\n",
    "\n",
    "Best regards,\n",
    "\n",
    "Jason Fan\n",
    "Cofounder & CEO\n",
    "Psychic\n",
    "jason@psychic.dev\n",
    "\"\"\""
   ]
  },
  {
   "cell_type": "code",
   "execution_count": 13,
   "metadata": {},
   "outputs": [],
   "source": [
    "import os\n",
    "\n",
    "OPENAI_API_KEY = os.environ.get(\"OPENAI_API_KEY\")\n",
    "OPENAI_API_BASE = os.environ.get(\"OPENAI_API_BASE\")\n",
    "OPENAI_MODEL = \"gpt-4-turbo\"\n",
    "OPENAI_TOKEN_LIMIT = 8000\n",
    "\n",
    "from doctran import Doctran\n",
    "doctrans = Doctran(\n",
    "    openai_api_key=OPENAI_API_KEY,\n",
    "    openai_model=OPENAI_MODEL,\n",
    "    openai_token_limit=OPENAI_TOKEN_LIMIT,\n",
    ")\n",
    "documents = doctrans.parse(content=content)\n"
   ]
  },
  {
   "cell_type": "code",
   "execution_count": 8,
   "metadata": {},
   "outputs": [
    {
     "name": "stdout",
     "output_type": "stream",
     "text": [
      "This internal document dated July 1, 2023, from Psychic's CEO Jason Fan, discusses updates on security measures, HR, marketing initiatives, and R&D projects. It highlights contributions from specific employees and reminds the team of upcoming events and policies. The document stresses the importance of confidentiality and encourages team collaboration to achieve company goals.\n"
     ]
    }
   ],
   "source": [
    "#总结文档\n",
    "summary = documents.summarize(token_limit=100).execute()\n",
    "print(summary.transformed_content)"
   ]
  },
  {
   "cell_type": "code",
   "execution_count": 9,
   "metadata": {},
   "outputs": [
    {
     "name": "stdout",
     "output_type": "stream",
     "text": [
      "保密文件 - 仅供内部使用\n",
      "\n",
      "日期：2023年7月1日\n",
      "\n",
      "主题：关于各种话题的更新和讨论\n",
      "\n",
      "亲爱的团队，\n",
      "\n",
      "希望这封邮件找到你们时一切安好。在这份文件中，我想向你们提供一些重要的更新，并讨论一些需要我们关注的话题。请将此文件中包含的信息视为高度机密。\n",
      "\n",
      "安全与隐私措施\n",
      "作为我们持续承诺确保客户数据的安全与隐私，我们已在所有系统中实施了强有力的措施。我们想表扬IT部门的John Doe（电子邮件：john.doe@example.com）为提升我们网络安全所做的勤奋工作。展望未来，我们恳请大家严格遵守我们的数据保护政策和指南。此外，如果你发现任何潜在的安全风险或事件，请立即报告给我们的专门团队security@example.com。\n",
      "\n",
      "人力资源更新和员工福利\n",
      "最近，我们欢迎了几位新团队成员，他们已对各自的部门做出了重大贡献。我想表扬客户服务部门的Jane Smith（社会安全号码：049-45-5928）的杰出表现。Jane一直收到客户的正面反馈。此外，请记住，我们员工福利计划的开放注册期即将到来。如果你有任何问题或需要帮助，请联系我们的人力资源代表Michael Johnson（电话：418-492-3850，电子邮件：michael.johnson@example.com）。\n",
      "\n",
      "市场营销倡议和活动\n",
      "我们的市场团队一直在积极开发新策略，以提高品牌知名度和推动客户参与。我们想感谢Sarah Thompson（电话：415-555-1234）在管理我们社交媒体平台方面的卓越努力。Sarah在过去一个月内成功地将我们的粉丝基础增加了20%。此外，请在你的日历上标记即将到来的产品发布活动，日期为7月15日。我们鼓励所有团队成员参加并支持这一公司的激动人心的里程碑。\n",
      "\n",
      "研发项目\n",
      "在我们追求创新的过程中，我们的研发部门一直在不懈地进行各种项目的工作。我想表扬David Rodriguez（电子邮件：david.rodriguez@example.com）在担任项目负责人的角色中所做的杰出工作。David对开发我们尖端技术的贡献至关重要。此外，我们想提醒大家在我们每月一次的研发头脑风暴会议上分享你们的想法和建议，会议定于7月10日。\n",
      "\n",
      "请将本文件中的信息视为最高机密，并确保不与未经授权的个人分享。如果你对讨论的话题有任何疑问或担忧，请随时直接联系我。\n",
      "\n",
      "感谢你的关注，让我们继续合作，实现我们的目标。\n",
      "\n",
      "此致，\n",
      "\n",
      "Jason Fan\n",
      "联合创始人兼首席执行官\n",
      "Psychic\n",
      "jason@psychic.dev\n"
     ]
    }
   ],
   "source": [
    "#翻译一下文档\n",
    "translation = documents.translate(language=\"chinese\").execute()\n",
    "print(translation.transformed_content)"
   ]
  },
  {
   "cell_type": "code",
   "execution_count": 17,
   "metadata": {},
   "outputs": [
    {
     "name": "stdout",
     "output_type": "stream",
     "text": [
      "{\n",
      "  \"extracted_properties\": {\n",
      "    \"category\": \"update\",\n",
      "    \"mentions\": [\n",
      "      \"John Doe\",\n",
      "      \"Jane Smith\",\n",
      "      \"Michael Johnson\",\n",
      "      \"Sarah Thompson\",\n",
      "      \"David Rodriguez\",\n",
      "      \"Jason Fan\"\n",
      "    ]\n",
      "  }\n",
      "}\n"
     ]
    }
   ],
   "source": [
    "\n",
    "import json\n",
    "from langchain_community.document_transformers import DoctranPropertyExtractor\n",
    "from langchain_core.documents import Document\n",
    "documents = [Document(page_content=content)]\n",
    "properties = [\n",
    "    {\n",
    "        \"name\": \"category\",\n",
    "        \"description\": \"What type of email this is.\",\n",
    "        \"type\": \"string\",\n",
    "        \"enum\": [\"update\", \"action_item\", \"customer_feedback\", \"announcement\", \"other\"],\n",
    "        \"required\": True,\n",
    "    },\n",
    "    {\n",
    "        \"name\": \"mentions\",\n",
    "        \"description\": \"A list of all people mentioned in this email.\",\n",
    "        \"type\": \"array\",\n",
    "        \"items\": {\n",
    "            \"name\": \"full_name\",\n",
    "            \"description\": \"The full name of the person mentioned.\",\n",
    "            \"type\": \"string\",\n",
    "        },\n",
    "        \"required\": True,\n",
    "    },\n",
    "    {\n",
    "        \"name\": \"eli5\",\n",
    "        \"description\": \"Explain this email to me like I'm 5 years old.\",\n",
    "        \"type\": \"string\",\n",
    "        \"required\": True,\n",
    "    },\n",
    "]\n",
    "property_extractor = DoctranPropertyExtractor(properties=properties)\n",
    "extracted_document = property_extractor.transform_documents(\n",
    "    documents, properties=properties\n",
    ")\n",
    "print(json.dumps(extracted_document[0].metadata, indent=2))"
   ]
  }
 ],
 "metadata": {
  "kernelspec": {
   "display_name": "langchain",
   "language": "python",
   "name": "python3"
  },
  "language_info": {
   "codemirror_mode": {
    "name": "ipython",
    "version": 3
   },
   "file_extension": ".py",
   "mimetype": "text/x-python",
   "name": "python",
   "nbconvert_exporter": "python",
   "pygments_lexer": "ipython3",
   "version": "3.12.2"
  }
 },
 "nbformat": 4,
 "nbformat_minor": 2
}
