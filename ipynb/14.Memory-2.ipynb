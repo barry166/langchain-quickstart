{
 "cells": [
  {
   "cell_type": "markdown",
   "metadata": {},
   "source": [
    "## Memory - 2\n",
    "\n"
   ]
  },
  {
   "cell_type": "markdown",
   "metadata": {},
   "source": [
    "### Backed by a Vector Store\n",
    "\n",
    "VectorStoreRetrieverMemory 内存存储在一个向量存储和查询最“突出”的顶 K 文档每次调用的记忆。\n",
    "\n",
    "这与大多数其他 Memory 类的不同之处在于，它不显式地跟踪交互的顺序。"
   ]
  },
  {
   "cell_type": "code",
   "execution_count": 10,
   "metadata": {},
   "outputs": [],
   "source": [
    "# 环境变量设置\n",
    "import os\n",
    "os.environ[\"OPENAI_API_KEY\"] = \"sk-xxx\"\n",
    "os.environ[\"OPENAI_API_BASE\"] = \"https://api.chatanywhere.tech/v1\""
   ]
  },
  {
   "cell_type": "markdown",
   "metadata": {},
   "source": [
    "导入基础类库"
   ]
  },
  {
   "cell_type": "code",
   "execution_count": 11,
   "metadata": {},
   "outputs": [],
   "source": [
    "from datetime import datetime\n",
    "from langchain_openai import OpenAIEmbeddings\n",
    "from langchain_openai import OpenAI\n",
    "from langchain.memory import VectorStoreRetrieverMemory\n",
    "from langchain.chains import ConversationChain\n",
    "from langchain_core.prompts import PromptTemplate"
   ]
  },
  {
   "cell_type": "markdown",
   "metadata": {},
   "source": [
    "#### 初始化向量存储并存储本地pdf"
   ]
  },
  {
   "cell_type": "code",
   "execution_count": 21,
   "metadata": {},
   "outputs": [],
   "source": [
    "import faiss\n",
    "\n",
    "from langchain_community.docstore import InMemoryDocstore\n",
    "from langchain_community.vectorstores import FAISS\n",
    "from langchain_community.document_loaders import PyPDFLoader\n",
    "\n",
    "\n",
    "\n",
    "# embedding_size = 1536 # Dimensions of the OpenAIEmbeddings\n",
    "# index = faiss.IndexFlatL2(embedding_size)\n",
    "# embedding_fn = OpenAIEmbeddings().embed_query\n",
    "\n",
    "loader = PyPDFLoader(\"test.pdf\")\n",
    "documents = loader.load_and_split()\n",
    "\n",
    "vectorstore = FAISS.from_documents(documents, OpenAIEmbeddings())\n",
    "# vectorstore = FAISS(embedding_fn, index, InMemoryDocstore({}), {})"
   ]
  },
  {
   "cell_type": "markdown",
   "metadata": {},
   "source": [
    "#### 创建 VectorStoreRetrieverMemory\n"
   ]
  },
  {
   "cell_type": "code",
   "execution_count": 22,
   "metadata": {},
   "outputs": [],
   "source": [
    "# In actual usage, you would set `k` to be a higher value, but we use k=1 to show that\n",
    "# the vector lookup still returns the semantically relevant information\n",
    "retriever = vectorstore.as_retriever(search_kwargs=dict(k=1))\n",
    "memory = VectorStoreRetrieverMemory(retriever=retriever)\n",
    "\n",
    "# When added to an agent, the memory object can save pertinent information from conversations or used tools\n",
    "memory.save_context({\"input\": \"我最喜欢的食物是汉堡\"}, {\"output\": \"好的我知道了\"})\n",
    "memory.save_context({\"input\": \"我最喜欢的运动是篮球\"}, {\"output\": \"...\"})\n",
    "memory.save_context({\"input\": \"我不喜欢凯尔特人\"}, {\"output\": \"好的\"}) #"
   ]
  },
  {
   "cell_type": "code",
   "execution_count": 23,
   "metadata": {},
   "outputs": [
    {
     "name": "stdout",
     "output_type": "stream",
     "text": [
      "input: 我最喜欢的运动是篮球\n",
      "output: ...\n"
     ]
    }
   ],
   "source": [
    "print(memory.load_memory_variables({\"prompt\": \"我最喜欢什么运动?\"})[\"history\"])"
   ]
  },
  {
   "cell_type": "markdown",
   "metadata": {},
   "source": [
    "#### Chain中使用"
   ]
  },
  {
   "cell_type": "code",
   "execution_count": 24,
   "metadata": {},
   "outputs": [
    {
     "name": "stdout",
     "output_type": "stream",
     "text": [
      "\n",
      "\n",
      "\u001b[1m> Entering new ConversationChain chain...\u001b[0m\n",
      "Prompt after formatting:\n",
      "\u001b[32;1m\u001b[1;3mThe following is a friendly conversation between a human and an AI. The AI is talkative and provides lots of specific details from its context. If the AI does not know the answer to a question, it truthfully says it does not know.\n",
      "\n",
      "Relevant pieces of previous conversation:\n",
      "易速鲜花集团 \n",
      " 17  \n",
      " \n",
      " \n",
      "第三章 规范用语  \n",
      " \n",
      "一、早上上班时，员工与员工相遇，应微笑相互问候。规范用语：\n",
      "“早上好！”。  \n",
      "二、平常员工相遇时规范用语为“你好！”。  \n",
      "三、员工若与上司相遇，员工先向上司问候，并在问候语前加上上\n",
      "司的行政职务称谓。如：“某总，早上好！”“某经理，您好”  \n",
      "四、迎宾用语：“早上好，欢迎光临！”  \n",
      "五、送宾用语：“请慢走，欢迎下次光临！”  \n",
      "六、园区遇到顾客：“您好，欢迎光临 易速鲜花 ” \n",
      "七、会议用语：  \n",
      "会前：主持人 -----“各位同事早上好（下午好）”  \n",
      "参会人员 ----“好” 击掌三下  \n",
      "会后：主持人 -----“会议到此结束，谢谢！”  \n",
      "会议期间参会人员一律将手机调成静音或关机。  \n",
      "八、电话用语规范：\n",
      "\n",
      "(You do not need to use these pieces of information if not relevant)\n",
      "\n",
      "Current conversation:\n",
      "Human: Hi, my name is Perry, what's up?\n",
      "AI:\u001b[0m\n",
      "\n",
      "\u001b[1m> Finished chain.\u001b[0m\n"
     ]
    },
    {
     "data": {
      "text/plain": [
       "' Hello Perry, my name is AI. I am an artificial intelligence programmed to assist with various tasks. Currently, I am functioning as a virtual assistant for the company 易速鲜花集团. How can I help you?'"
      ]
     },
     "execution_count": 24,
     "metadata": {},
     "output_type": "execute_result"
    }
   ],
   "source": [
    "llm = OpenAI(temperature=0) # Can be any valid LLM\n",
    "_DEFAULT_TEMPLATE = \"\"\"The following is a friendly conversation between a human and an AI. The AI is talkative and provides lots of specific details from its context. If the AI does not know the answer to a question, it truthfully says it does not know.\n",
    "\n",
    "Relevant pieces of previous conversation:\n",
    "{history}\n",
    "\n",
    "(You do not need to use these pieces of information if not relevant)\n",
    "\n",
    "Current conversation:\n",
    "Human: {input}\n",
    "AI:\"\"\"\n",
    "PROMPT = PromptTemplate(\n",
    "    input_variables=[\"history\", \"input\"], template=_DEFAULT_TEMPLATE\n",
    ")\n",
    "conversation_with_summary = ConversationChain(\n",
    "    llm=llm,\n",
    "    prompt=PROMPT,\n",
    "    memory=memory,\n",
    "    verbose=True\n",
    ")\n",
    "conversation_with_summary.predict(input=\"Hi, my name is Perry, what's up?\")"
   ]
  },
  {
   "cell_type": "markdown",
   "metadata": {},
   "source": [
    "查询加载pdf的数据"
   ]
  },
  {
   "cell_type": "code",
   "execution_count": 27,
   "metadata": {},
   "outputs": [
    {
     "name": "stdout",
     "output_type": "stream",
     "text": [
      "\n",
      "\n",
      "\u001b[1m> Entering new ConversationChain chain...\u001b[0m\n",
      "Prompt after formatting:\n",
      "\u001b[32;1m\u001b[1;3mThe following is a friendly conversation between a human and an AI. The AI is talkative and provides lots of specific details from its context. If the AI does not know the answer to a question, it truthfully says it does not know.\n",
      "\n",
      "Relevant pieces of previous conversation:\n",
      "易速鲜花集团 \n",
      " 12 第二节  仪容仪表规范  \n",
      " \n",
      "一、 仪  容 \n",
      "1. 发型要求  \n",
      "头发要梳理整齐，男员工头发长度应适中，前不过眉、后不过\n",
      "领、侧不过耳、呈现自然色；女员工头发长度不可过肩，过肩发需\n",
      "束起来，不可散落，并用深色且式样简洁，大小不超过十公分的头\n",
      "饰，呈现自然色。  \n",
      "2. 面部要求  \n",
      "① 男员工不留胡须，并保持脸部干净整洁；女员工须着淡妆\n",
      "（至少涂有口红），但不可浓妆艳抹。  \n",
      "② 眼睛近视的员工尽量配戴隐形眼镜，如必须配戴近视眼镜\n",
      "的则眼镜款式要简单、大方。  \n",
      "3. 手部要求  \n",
      "① 指甲修剪整 齐、保持清洁，不得留长指甲。不可涂有色指\n",
      "甲油。 \n",
      "② 除了样式简洁的手表、结婚戒指、耳环（简单的、小的、\n",
      "不晃动的耳环）外，不得在穿着制服时佩戴其它饰品。  \n",
      "二、 仪  表 \n",
      "1. 制服要求  \n",
      "必须按规定穿着制服，保持整齐、清洁、熨烫平整、无破损，\n",
      "\n",
      "(You do not need to use these pieces of information if not relevant)\n",
      "\n",
      "Current conversation:\n",
      "Human: 易速鲜花员工的个人卫生要求是什么?\n",
      "AI:\u001b[0m\n",
      "\n",
      "\u001b[1m> Finished chain.\u001b[0m\n"
     ]
    },
    {
     "data": {
      "text/plain": [
       "' 易速鲜花员工的个人卫生要求包括仪容仪表规范和制服要求。具体来说，发型要求是头发要梳理整齐，男员工头发长度应适中，前不过眉、后不过领、侧不过耳、呈现自然色；女员工头发长度不可过肩，过肩发需束起来，不可散落，并用深色且式样简洁，大小不超过十公分的头饰，呈现自然色。面部要求是男员工不留胡须，并保持脸部干净整洁；女员工须着淡妆（至少涂有口红），但不可浓妆艳抹。眼睛近视的员工尽量配戴隐形眼镜，如必须配戴近视眼镜'"
      ]
     },
     "execution_count": 27,
     "metadata": {},
     "output_type": "execute_result"
    }
   ],
   "source": [
    "conversation_with_summary.predict(input=\"易速鲜花员工的个人卫生要求是什么?\")"
   ]
  },
  {
   "cell_type": "code",
   "execution_count": 16,
   "metadata": {},
   "outputs": [
    {
     "name": "stdout",
     "output_type": "stream",
     "text": [
      "\n",
      "\n",
      "\u001b[1m> Entering new ConversationChain chain...\u001b[0m\n",
      "Prompt after formatting:\n",
      "\u001b[32;1m\u001b[1;3mThe following is a friendly conversation between a human and an AI. The AI is talkative and provides lots of specific details from its context. If the AI does not know the answer to a question, it truthfully says it does not know.\n",
      "\n",
      "Relevant pieces of previous conversation:\n",
      "input: 我最喜欢的运动是篮球\n",
      "output: ...\n",
      "\n",
      "(You do not need to use these pieces of information if not relevant)\n",
      "\n",
      "Current conversation:\n",
      "Human: 我最喜欢的运动是什么?\n",
      "AI:\u001b[0m\n",
      "\n",
      "\u001b[1m> Finished chain.\u001b[0m\n"
     ]
    },
    {
     "data": {
      "text/plain": [
       "' 您最喜欢的运动是篮球。我可以告诉您关于篮球的一些有趣的事实。篮球是一种流行的团队运动，通常由两支队伍各有五名球员组成。它的目标是将球投入对方的篮筐，得分最多的一方获胜。篮球起源于美国，现在已经成为世界各地的流行运动。它也是一项奥运会正式比赛项目。您知道吗，篮球最初是用一个桃子篮和一个足球来玩的吗？后来，随着发展，篮球变成了我们现在熟悉的形式。您还有什么想知道的吗？'"
      ]
     },
     "execution_count": 16,
     "metadata": {},
     "output_type": "execute_result"
    }
   ],
   "source": [
    "# Here, the basketball related content is surfaced\n",
    "conversation_with_summary.predict(input=\"我最喜欢的运动是什么?\")"
   ]
  },
  {
   "cell_type": "code",
   "execution_count": 17,
   "metadata": {},
   "outputs": [
    {
     "name": "stdout",
     "output_type": "stream",
     "text": [
      "\n",
      "\n",
      "\u001b[1m> Entering new ConversationChain chain...\u001b[0m\n",
      "Prompt after formatting:\n",
      "\u001b[32;1m\u001b[1;3mThe following is a friendly conversation between a human and an AI. The AI is talkative and provides lots of specific details from its context. If the AI does not know the answer to a question, it truthfully says it does not know.\n",
      "\n",
      "Relevant pieces of previous conversation:\n",
      "input: 我最喜欢的食物是汉堡\n",
      "output: 好的我知道了\n",
      "\n",
      "(You do not need to use these pieces of information if not relevant)\n",
      "\n",
      "Current conversation:\n",
      "Human: 我最喜欢的食物是什么?\n",
      "AI:\u001b[0m\n",
      "\n",
      "\u001b[1m> Finished chain.\u001b[0m\n"
     ]
    },
    {
     "data": {
      "text/plain": [
       "' 您最喜欢的食物是什么？我可以告诉您，您之前告诉我您最喜欢的食物是汉堡。您喜欢的食物是汉堡，对吗？'"
      ]
     },
     "execution_count": 17,
     "metadata": {},
     "output_type": "execute_result"
    }
   ],
   "source": [
    "conversation_with_summary.predict(input=\"我最喜欢的食物是什么?\")"
   ]
  },
  {
   "cell_type": "code",
   "execution_count": 19,
   "metadata": {},
   "outputs": [
    {
     "name": "stdout",
     "output_type": "stream",
     "text": [
      "\n",
      "\n",
      "\u001b[1m> Entering new ConversationChain chain...\u001b[0m\n",
      "Prompt after formatting:\n",
      "\u001b[32;1m\u001b[1;3mThe following is a friendly conversation between a human and an AI. The AI is talkative and provides lots of specific details from its context. If the AI does not know the answer to a question, it truthfully says it does not know.\n",
      "\n",
      "Relevant pieces of previous conversation:\n",
      "input: What's my name?\n",
      "response:  Your name is Perry. You introduced yourself to me earlier. Did you forget?\n",
      "\n",
      "(You do not need to use these pieces of information if not relevant)\n",
      "\n",
      "Current conversation:\n",
      "Human: 我的名字是什么?\n",
      "AI:\u001b[0m\n",
      "\n",
      "\u001b[1m> Finished chain.\u001b[0m\n"
     ]
    },
    {
     "data": {
      "text/plain": [
       "' 你的名字是佩里。你之前向我介绍过自己。你忘记了吗？'"
      ]
     },
     "execution_count": 19,
     "metadata": {},
     "output_type": "execute_result"
    }
   ],
   "source": [
    "conversation_with_summary.predict(input=\"我的名字是什么?\")"
   ]
  }
 ],
 "metadata": {
  "kernelspec": {
   "display_name": "langchain",
   "language": "python",
   "name": "python3"
  },
  "language_info": {
   "codemirror_mode": {
    "name": "ipython",
    "version": 3
   },
   "file_extension": ".py",
   "mimetype": "text/x-python",
   "name": "python",
   "nbconvert_exporter": "python",
   "pygments_lexer": "ipython3",
   "version": "3.12.2"
  }
 },
 "nbformat": 4,
 "nbformat_minor": 2
}
