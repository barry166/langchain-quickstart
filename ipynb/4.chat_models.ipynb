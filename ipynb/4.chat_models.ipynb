{
 "cells": [
  {
   "cell_type": "markdown",
   "metadata": {},
   "source": [
    "### 大模型LLM调用"
   ]
  },
  {
   "cell_type": "markdown",
   "metadata": {},
   "source": [
    "#### ChatModel 调用"
   ]
  },
  {
   "cell_type": "code",
   "execution_count": 1,
   "metadata": {},
   "outputs": [],
   "source": [
    "import os\n",
    "os.environ[\"OPENAI_API_KEY\"] = \"sk-xxx\"\n",
    "os.environ[\"OPENAI_API_BASE\"] = \"https://api.chatanywhere.tech/v1\""
   ]
  },
  {
   "cell_type": "code",
   "execution_count": 3,
   "metadata": {},
   "outputs": [],
   "source": [
    "! pip install -qU langchain-openai langchain_core"
   ]
  },
  {
   "cell_type": "code",
   "execution_count": 6,
   "metadata": {},
   "outputs": [
    {
     "data": {
      "text/plain": [
       "AIMessage(content='黑洞是宇宙中一个极端的天体，它具有非常强大的引力，强到连光线也无法逃逸。黑洞的形成通常是恒星在其生命周期结束时，核心燃料耗尽后发生坍缩造成的。这种坍缩产生的密度极高，引力场极强的对象即为黑洞。\\n\\n黑洞本身是看不见的，因为没有光线能从中逃出来，但科学家可以通过黑洞对周围环境的影响来探测它们。例如，当物质落入黑洞时，它会加热并发出X射线和其他形式的辐射，这些可以被望远镜探测到。\\n\\n黑洞可以分为几种类型，包括恒星级黑洞，这种黑洞的质量和原来的恒星类似；超大质量黑洞，通常存在于星系中心，质量可以是太阳的数百万甚至数十亿倍；还有中等质量黑洞，质量介于两者之间。\\n\\n爱因斯坦的广义相对论预言了黑洞的存在，而近年来，多种观测也证实了它们的实际存在。例如，2019年，科学家们首次发布了黑洞的“影像”，这是对位于M87星系中心的超大质量黑洞的观测结果。', response_metadata={'token_usage': {'completion_tokens': 421, 'prompt_tokens': 30, 'total_tokens': 451}, 'model_name': 'gpt-4-turbo', 'system_fingerprint': 'fp_ea6eb70039', 'finish_reason': 'stop', 'logprobs': None}, id='run-56dd1a71-c357-47b9-ac05-45ceb23c7390-0')"
      ]
     },
     "execution_count": 6,
     "metadata": {},
     "output_type": "execute_result"
    }
   ],
   "source": [
    "from langchain_openai import ChatOpenAI\n",
    "from langchain_core.messages import HumanMessage, SystemMessage\n",
    "\n",
    "chat = ChatOpenAI(model=\"gpt-4-turbo\")\n",
    "messages = [\n",
    "    SystemMessage(content=\"你是一个优秀的ai助理\"),\n",
    "    HumanMessage(content=\"黑洞是什么?\"),\n",
    "]\n",
    "\n",
    "chat.invoke(messages)"
   ]
  },
  {
   "cell_type": "markdown",
   "metadata": {},
   "source": [
    "#### 流式调用"
   ]
  },
  {
   "cell_type": "code",
   "execution_count": 12,
   "metadata": {},
   "outputs": [
    {
     "name": "stdout",
     "output_type": "stream",
     "text": [
      "炎黄子孙多仁智，\n",
      "五千年史韵悠长。\n",
      "江山如画观不尽，\n",
      "文化深沉似海洋。\n",
      "\n",
      "长城蜿蜒龙脊起，\n",
      "故宫辉煌映朝阳。\n",
      "诗书传世声名远，\n",
      "四大发明展雄才。\n",
      "\n",
      "桂林山水甲天下，\n",
      "黄山松云古今赞。\n",
      "长江黄河滋养地，\n",
      "稻花香里说丰年。\n",
      "\n",
      "中华儿女情意厚，\n",
      "礼仪之邦美名扬。\n",
      "和谐共生多样性，\n",
      "共筑梦想心向光。"
     ]
    }
   ],
   "source": [
    "from langchain_community.chat_models import ChatOpenAI\n",
    "\n",
    "chat = ChatOpenAI(model=\"gpt-4-turbo\", max_tokens=1000)\n",
    "for chunk in chat.stream(\"写一首赞美中国的诗, 请用古文体\"):\n",
    "    print(chunk.content, end=\"\", flush=True)"
   ]
  },
  {
   "cell_type": "markdown",
   "metadata": {},
   "source": [
    "#### Token使用情况（Tracking token usage）\n"
   ]
  },
  {
   "cell_type": "markdown",
   "metadata": {},
   "source": [
    "##### 使用AIMessage.response _ meta"
   ]
  },
  {
   "cell_type": "markdown",
   "metadata": {},
   "source": [
    "许多模型提供程序返回令牌使用信息作为聊天生成响应的一部分。如果可用，这将包含在 AIMessage.response _ meta 中。下面是 OpenAI 的一个例子:"
   ]
  },
  {
   "cell_type": "code",
   "execution_count": 17,
   "metadata": {},
   "outputs": [
    {
     "name": "stdout",
     "output_type": "stream",
     "text": [
      "content='黑洞作为天体，并不是“被制造”的，而是在宇宙中的某些特定条件下自然形成的。黑洞的形成通常是恒星在其生命周期结束时，如果其质量足够大，会发生坍缩形成黑洞。\\n\\n目前无法精确指出“世界上第一颗黑洞”具体位于哪里，因为黑洞的形成是一个持续发生的天文过程，而且距我们最远的黑洞可能形成于宇宙早期。黑洞本身不发出光线，不能直接被观测到，科学家是通过观测黑洞周围的环境和由黑洞引起的引力影响来间接探测黑洞。\\n\\n科学家首次确认存在黑洞是在20世纪70年代，当时观测到一些X射线源，它们被认为是恒星黑洞或者更大质量的黑洞。例如，Cygnus X-1是最早被广泛接受的黑洞候选者之一。\\n\\n因此，无法指明哪里有“第一颗黑洞”，只能说黑洞的发现和理解是一个逐步深入的过程。' response_metadata={'token_usage': {'completion_tokens': 361, 'prompt_tokens': 22, 'total_tokens': 383}, 'model_name': 'gpt-4-turbo', 'system_fingerprint': 'fp_ea6eb70039', 'finish_reason': 'stop', 'logprobs': None} id='run-1b36bd28-39c9-4b40-adee-455a9029b119-0'\n"
     ]
    },
    {
     "data": {
      "text/plain": [
       "{'token_usage': {'completion_tokens': 361,\n",
       "  'prompt_tokens': 22,\n",
       "  'total_tokens': 383},\n",
       " 'model_name': 'gpt-4-turbo',\n",
       " 'system_fingerprint': 'fp_ea6eb70039',\n",
       " 'finish_reason': 'stop',\n",
       " 'logprobs': None}"
      ]
     },
     "execution_count": 17,
     "metadata": {},
     "output_type": "execute_result"
    }
   ],
   "source": [
    "# !pip install -qU langchain-openai\n",
    "\n",
    "from langchain_openai import ChatOpenAI\n",
    "\n",
    "llm = ChatOpenAI(model=\"gpt-4-turbo\")\n",
    "msg = llm.invoke([(\"human\", \"世界上第一颗黑洞在哪?\")])\n",
    "print(msg)\n",
    "msg.response_metadata"
   ]
  },
  {
   "cell_type": "markdown",
   "metadata": {},
   "source": [
    "##### 使用回调callbacks"
   ]
  },
  {
   "cell_type": "code",
   "execution_count": 16,
   "metadata": {},
   "outputs": [
    {
     "name": "stdout",
     "output_type": "stream",
     "text": [
      "Tokens Used: 26\n",
      "\tPrompt Tokens: 11\n",
      "\tCompletion Tokens: 15\n",
      "Successful Requests: 1\n",
      "Total Cost (USD): $0.00056\n"
     ]
    }
   ],
   "source": [
    "# !pip install -qU langchain-community wikipedia\n",
    "\n",
    "from langchain_community.callbacks.manager import get_openai_callback\n",
    "\n",
    "llm = ChatOpenAI(model=\"gpt-4-turbo\", temperature=0)\n",
    "with get_openai_callback() as cb:\n",
    "    result = llm.invoke(\"请告诉我一个计算机的笑话\")\n",
    "    print(cb)"
   ]
  }
 ],
 "metadata": {
  "kernelspec": {
   "display_name": "langchain",
   "language": "python",
   "name": "python3"
  },
  "language_info": {
   "codemirror_mode": {
    "name": "ipython",
    "version": 3
   },
   "file_extension": ".py",
   "mimetype": "text/x-python",
   "name": "python",
   "nbconvert_exporter": "python",
   "pygments_lexer": "ipython3",
   "version": "3.12.2"
  }
 },
 "nbformat": 4,
 "nbformat_minor": 2
}
