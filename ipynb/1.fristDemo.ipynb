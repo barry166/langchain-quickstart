{
 "cells": [
  {
   "cell_type": "markdown",
   "metadata": {},
   "source": [
    " 环境准备\n",
    "- pyenv安装 \n",
    "```shell\n",
    "brew update\n",
    "brew install pyenv\n",
    "# 设置环境变亮\n",
    "echo -e 'export PATH=\"$HOME/.pyenv/bin:$PATH\"\\neval \"$(pyenv init --path)\"\\neval \"$(pyenv virtualenv-init -)\"' >> ~/.bashrc\n",
    "# 重启\n",
    "exec \"$SHELL\"\n",
    "```\n",
    "- 创建隔离虚拟环境\n",
    "```shell\n",
    "pyenv install 3.12.2\n",
    "pyenv virtualenv 3.12.2 langchain\n",
    "pyenv local langchain\n",
    "```"
   ]
  },
  {
   "cell_type": "markdown",
   "metadata": {},
   "source": [
    "#### 测试环境初运行"
   ]
  },
  {
   "cell_type": "code",
   "execution_count": 2,
   "metadata": {},
   "outputs": [
    {
     "name": "stdout",
     "output_type": "stream",
     "text": [
      "hello world\n"
     ]
    }
   ],
   "source": [
    "print('hello world')"
   ]
  },
  {
   "cell_type": "markdown",
   "metadata": {},
   "source": [
    "#### 安装langchain"
   ]
  },
  {
   "cell_type": "code",
   "execution_count": 3,
   "metadata": {},
   "outputs": [
    {
     "name": "stdout",
     "output_type": "stream",
     "text": [
      "Requirement already satisfied: langchain==0.0.279 in /Users/barry/.pyenv/versions/3.12.2/envs/langchain/lib/python3.12/site-packages (0.0.279)\n",
      "Requirement already satisfied: PyYAML>=5.3 in /Users/barry/.pyenv/versions/3.12.2/envs/langchain/lib/python3.12/site-packages (from langchain==0.0.279) (6.0.1)\n",
      "Requirement already satisfied: SQLAlchemy<3,>=1.4 in /Users/barry/.pyenv/versions/3.12.2/envs/langchain/lib/python3.12/site-packages (from langchain==0.0.279) (2.0.29)\n",
      "Requirement already satisfied: aiohttp<4.0.0,>=3.8.3 in /Users/barry/.pyenv/versions/3.12.2/envs/langchain/lib/python3.12/site-packages (from langchain==0.0.279) (3.9.5)\n",
      "Requirement already satisfied: dataclasses-json<0.6.0,>=0.5.7 in /Users/barry/.pyenv/versions/3.12.2/envs/langchain/lib/python3.12/site-packages (from langchain==0.0.279) (0.5.14)\n",
      "Collecting langsmith<0.1.0,>=0.0.21 (from langchain==0.0.279)\n",
      "  Using cached langsmith-0.0.92-py3-none-any.whl.metadata (9.9 kB)\n",
      "Requirement already satisfied: numexpr<3.0.0,>=2.8.4 in /Users/barry/.pyenv/versions/3.12.2/envs/langchain/lib/python3.12/site-packages (from langchain==0.0.279) (2.10.0)\n",
      "Requirement already satisfied: numpy<2,>=1 in /Users/barry/.pyenv/versions/3.12.2/envs/langchain/lib/python3.12/site-packages (from langchain==0.0.279) (1.26.4)\n",
      "Requirement already satisfied: pydantic<3,>=1 in /Users/barry/.pyenv/versions/3.12.2/envs/langchain/lib/python3.12/site-packages (from langchain==0.0.279) (2.7.1)\n",
      "Requirement already satisfied: requests<3,>=2 in /Users/barry/.pyenv/versions/3.12.2/envs/langchain/lib/python3.12/site-packages (from langchain==0.0.279) (2.31.0)\n",
      "Requirement already satisfied: tenacity<9.0.0,>=8.1.0 in /Users/barry/.pyenv/versions/3.12.2/envs/langchain/lib/python3.12/site-packages (from langchain==0.0.279) (8.2.3)\n",
      "Requirement already satisfied: aiosignal>=1.1.2 in /Users/barry/.pyenv/versions/3.12.2/envs/langchain/lib/python3.12/site-packages (from aiohttp<4.0.0,>=3.8.3->langchain==0.0.279) (1.3.1)\n",
      "Requirement already satisfied: attrs>=17.3.0 in /Users/barry/.pyenv/versions/3.12.2/envs/langchain/lib/python3.12/site-packages (from aiohttp<4.0.0,>=3.8.3->langchain==0.0.279) (23.2.0)\n",
      "Requirement already satisfied: frozenlist>=1.1.1 in /Users/barry/.pyenv/versions/3.12.2/envs/langchain/lib/python3.12/site-packages (from aiohttp<4.0.0,>=3.8.3->langchain==0.0.279) (1.4.1)\n",
      "Requirement already satisfied: multidict<7.0,>=4.5 in /Users/barry/.pyenv/versions/3.12.2/envs/langchain/lib/python3.12/site-packages (from aiohttp<4.0.0,>=3.8.3->langchain==0.0.279) (6.0.5)\n",
      "Requirement already satisfied: yarl<2.0,>=1.0 in /Users/barry/.pyenv/versions/3.12.2/envs/langchain/lib/python3.12/site-packages (from aiohttp<4.0.0,>=3.8.3->langchain==0.0.279) (1.9.4)\n",
      "Requirement already satisfied: marshmallow<4.0.0,>=3.18.0 in /Users/barry/.pyenv/versions/3.12.2/envs/langchain/lib/python3.12/site-packages (from dataclasses-json<0.6.0,>=0.5.7->langchain==0.0.279) (3.21.2)\n",
      "Requirement already satisfied: typing-inspect<1,>=0.4.0 in /Users/barry/.pyenv/versions/3.12.2/envs/langchain/lib/python3.12/site-packages (from dataclasses-json<0.6.0,>=0.5.7->langchain==0.0.279) (0.9.0)\n",
      "Requirement already satisfied: annotated-types>=0.4.0 in /Users/barry/.pyenv/versions/3.12.2/envs/langchain/lib/python3.12/site-packages (from pydantic<3,>=1->langchain==0.0.279) (0.6.0)\n",
      "Requirement already satisfied: pydantic-core==2.18.2 in /Users/barry/.pyenv/versions/3.12.2/envs/langchain/lib/python3.12/site-packages (from pydantic<3,>=1->langchain==0.0.279) (2.18.2)\n",
      "Requirement already satisfied: typing-extensions>=4.6.1 in /Users/barry/.pyenv/versions/3.12.2/envs/langchain/lib/python3.12/site-packages (from pydantic<3,>=1->langchain==0.0.279) (4.11.0)\n",
      "Requirement already satisfied: charset-normalizer<4,>=2 in /Users/barry/.pyenv/versions/3.12.2/envs/langchain/lib/python3.12/site-packages (from requests<3,>=2->langchain==0.0.279) (3.3.2)\n",
      "Requirement already satisfied: idna<4,>=2.5 in /Users/barry/.pyenv/versions/3.12.2/envs/langchain/lib/python3.12/site-packages (from requests<3,>=2->langchain==0.0.279) (3.7)\n",
      "Requirement already satisfied: urllib3<3,>=1.21.1 in /Users/barry/.pyenv/versions/3.12.2/envs/langchain/lib/python3.12/site-packages (from requests<3,>=2->langchain==0.0.279) (2.2.1)\n",
      "Requirement already satisfied: certifi>=2017.4.17 in /Users/barry/.pyenv/versions/3.12.2/envs/langchain/lib/python3.12/site-packages (from requests<3,>=2->langchain==0.0.279) (2024.2.2)\n",
      "Requirement already satisfied: packaging>=17.0 in /Users/barry/.pyenv/versions/3.12.2/envs/langchain/lib/python3.12/site-packages (from marshmallow<4.0.0,>=3.18.0->dataclasses-json<0.6.0,>=0.5.7->langchain==0.0.279) (23.2)\n",
      "Requirement already satisfied: mypy-extensions>=0.3.0 in /Users/barry/.pyenv/versions/3.12.2/envs/langchain/lib/python3.12/site-packages (from typing-inspect<1,>=0.4.0->dataclasses-json<0.6.0,>=0.5.7->langchain==0.0.279) (1.0.0)\n",
      "Using cached langsmith-0.0.92-py3-none-any.whl (56 kB)\n",
      "Installing collected packages: langsmith\n",
      "  Attempting uninstall: langsmith\n",
      "    Found existing installation: langsmith 0.1.52\n",
      "    Uninstalling langsmith-0.1.52:\n",
      "      Successfully uninstalled langsmith-0.1.52\n",
      "\u001b[31mERROR: pip's dependency resolver does not currently take into account all the packages that are installed. This behaviour is the source of the following dependency conflicts.\n",
      "langchain-core 0.1.48 requires langsmith<0.2.0,>=0.1.0, but you have langsmith 0.0.92 which is incompatible.\u001b[0m\u001b[31m\n",
      "\u001b[0mSuccessfully installed langsmith-0.0.92\n"
     ]
    }
   ],
   "source": [
    "! pip install --upgrade langchain==0.0.279 -i https://pypi.org/simple"
   ]
  },
  {
   "cell_type": "markdown",
   "metadata": {},
   "source": [
    "### 原生使用openai"
   ]
  },
  {
   "cell_type": "markdown",
   "metadata": {},
   "source": [
    "#### 安装openai库"
   ]
  },
  {
   "cell_type": "code",
   "execution_count": 4,
   "metadata": {},
   "outputs": [
    {
     "name": "stdout",
     "output_type": "stream",
     "text": [
      "Requirement already satisfied: openai in /Users/barry/.pyenv/versions/3.12.2/envs/langchain/lib/python3.12/site-packages (1.25.0)\n",
      "Requirement already satisfied: anyio<5,>=3.5.0 in /Users/barry/.pyenv/versions/3.12.2/envs/langchain/lib/python3.12/site-packages (from openai) (4.3.0)\n",
      "Requirement already satisfied: distro<2,>=1.7.0 in /Users/barry/.pyenv/versions/3.12.2/envs/langchain/lib/python3.12/site-packages (from openai) (1.9.0)\n",
      "Requirement already satisfied: httpx<1,>=0.23.0 in /Users/barry/.pyenv/versions/3.12.2/envs/langchain/lib/python3.12/site-packages (from openai) (0.27.0)\n",
      "Requirement already satisfied: pydantic<3,>=1.9.0 in /Users/barry/.pyenv/versions/3.12.2/envs/langchain/lib/python3.12/site-packages (from openai) (2.7.1)\n",
      "Requirement already satisfied: sniffio in /Users/barry/.pyenv/versions/3.12.2/envs/langchain/lib/python3.12/site-packages (from openai) (1.3.1)\n",
      "Requirement already satisfied: tqdm>4 in /Users/barry/.pyenv/versions/3.12.2/envs/langchain/lib/python3.12/site-packages (from openai) (4.66.2)\n",
      "Requirement already satisfied: typing-extensions<5,>=4.7 in /Users/barry/.pyenv/versions/3.12.2/envs/langchain/lib/python3.12/site-packages (from openai) (4.11.0)\n",
      "Requirement already satisfied: idna>=2.8 in /Users/barry/.pyenv/versions/3.12.2/envs/langchain/lib/python3.12/site-packages (from anyio<5,>=3.5.0->openai) (3.7)\n",
      "Requirement already satisfied: certifi in /Users/barry/.pyenv/versions/3.12.2/envs/langchain/lib/python3.12/site-packages (from httpx<1,>=0.23.0->openai) (2024.2.2)\n",
      "Requirement already satisfied: httpcore==1.* in /Users/barry/.pyenv/versions/3.12.2/envs/langchain/lib/python3.12/site-packages (from httpx<1,>=0.23.0->openai) (1.0.5)\n",
      "Requirement already satisfied: h11<0.15,>=0.13 in /Users/barry/.pyenv/versions/3.12.2/envs/langchain/lib/python3.12/site-packages (from httpcore==1.*->httpx<1,>=0.23.0->openai) (0.14.0)\n",
      "Requirement already satisfied: annotated-types>=0.4.0 in /Users/barry/.pyenv/versions/3.12.2/envs/langchain/lib/python3.12/site-packages (from pydantic<3,>=1.9.0->openai) (0.6.0)\n",
      "Requirement already satisfied: pydantic-core==2.18.2 in /Users/barry/.pyenv/versions/3.12.2/envs/langchain/lib/python3.12/site-packages (from pydantic<3,>=1.9.0->openai) (2.18.2)\n"
     ]
    }
   ],
   "source": [
    "! pip install openai"
   ]
  },
  {
   "cell_type": "markdown",
   "metadata": {},
   "source": [
    "#### 设置环境变量key"
   ]
  },
  {
   "cell_type": "code",
   "execution_count": 3,
   "metadata": {},
   "outputs": [],
   "source": [
    "import os\n",
    "\n",
    "os.environ[\"OPENAI_KEY\"] = \"sk-xxx\"\n",
    "# os.environ[\"OPENAI_API_BASE\"] = \"https://solkatt.vip/proxy/https://api.openai.com/v1\"\n",
    "os.environ[\"OPENAI_API_BASE\"] = \"https://api.chatanywhere.tech/v1\""
   ]
  },
  {
   "cell_type": "markdown",
   "metadata": {},
   "source": [
    "#### 读取环境变量"
   ]
  },
  {
   "cell_type": "code",
   "execution_count": 2,
   "metadata": {},
   "outputs": [
    {
     "name": "stdout",
     "output_type": "stream",
     "text": [
      "Name: langchain\n",
      "Version: 0.0.279\n",
      "Summary: Building applications with LLMs through composability\n",
      "Home-page: https://github.com/langchain-ai/langchain\n",
      "Author: \n",
      "Author-email: \n",
      "License: MIT\n",
      "Location: /Users/barry/.pyenv/versions/3.12.2/envs/langchain/lib/python3.12/site-packages\n",
      "Requires: aiohttp, dataclasses-json, langsmith, numexpr, numpy, pydantic, PyYAML, requests, SQLAlchemy, tenacity\n",
      "Required-by: \n",
      "Name: openai\n",
      "Version: 1.25.0\n",
      "Summary: The official Python library for the openai API\n",
      "Home-page: \n",
      "Author: \n",
      "Author-email: OpenAI <support@openai.com>\n",
      "License: \n",
      "Location: /Users/barry/.pyenv/versions/3.12.2/envs/langchain/lib/python3.12/site-packages\n",
      "Requires: anyio, distro, httpx, pydantic, sniffio, tqdm, typing-extensions\n",
      "Required-by: langchain-openai\n"
     ]
    }
   ],
   "source": [
    "! pip show langchain\n",
    "! pip show openai"
   ]
  },
  {
   "cell_type": "code",
   "execution_count": 4,
   "metadata": {},
   "outputs": [
    {
     "name": "stdout",
     "output_type": "stream",
     "text": [
      "OPENAI_API_KEY: sk-xxx\n",
      "OPENAI_PROXY: https://api.chatanywhere.tech/v1\n"
     ]
    }
   ],
   "source": [
    "import os\n",
    "openai_api_key = os.getenv(\"OPENAI_KEY\")\n",
    "openai_api_base = os.getenv(\"OPENAI_API_BASE\")\n",
    "print(\"OPENAI_API_KEY:\", openai_api_key)\n",
    "print(\"OPENAI_PROXY:\", openai_api_base)"
   ]
  },
  {
   "cell_type": "markdown",
   "metadata": {},
   "source": [
    "#### 调用官方SDK"
   ]
  },
  {
   "cell_type": "code",
   "execution_count": 31,
   "metadata": {},
   "outputs": [
    {
     "name": "stdout",
     "output_type": "stream",
     "text": [
      "ChatCompletionMessage(content='Hello! How can I assist you today?', role='assistant', function_call=None, tool_calls=None)\n"
     ]
    }
   ],
   "source": [
    "#使用openai的官方sdk\n",
    "from openai import OpenAI\n",
    "import os\n",
    "\n",
    "# openai.api_base = os.getenv(\"OPENAI_API_BASE\")\n",
    "# openai.api_key = os.getenv(\"OPENAI_KEY\")\n",
    "\n",
    "client = OpenAI(\n",
    "  api_key=os.getenv(\"OPENAI_KEY\"),\n",
    "  base_url=os.getenv(\"OPENAI_API_BASE\")\n",
    ")\n",
    "\n",
    "completion = client.chat.completions.create(\n",
    "  model=\"gpt-4-turbo\",\n",
    "  messages=[\n",
    "    {\"role\": \"system\", \"content\": \"You are a helpful assistant.\"},\n",
    "    {\"role\": \"user\", \"content\": \"Hello!\"}\n",
    "  ]\n",
    ")\n",
    "\n",
    "print(completion.choices[0].message)"
   ]
  },
  {
   "cell_type": "markdown",
   "metadata": {},
   "source": [
    "### 使用langchain调用"
   ]
  },
  {
   "cell_type": "markdown",
   "metadata": {},
   "source": [
    "#### 安装必要的库"
   ]
  },
  {
   "cell_type": "code",
   "execution_count": null,
   "metadata": {},
   "outputs": [],
   "source": [
    "! pip install langchain_core\n",
    "! pip install langchain_openai"
   ]
  },
  {
   "cell_type": "code",
   "execution_count": 5,
   "metadata": {},
   "outputs": [
    {
     "data": {
      "text/plain": [
       "' \\n\\n首先，NFT是Non-Fungible Token的缩写，中文翻译为“非同质化代币”。它是一种基于区块链技术的数字资产，每一个NFT都是独一无二的，不可替代的。与传统的加密货币不同，NFT不具备可互换性，每一个NFT都有自己独特的属性和价值。\\n\\n其次，NFT可以代表任何形式的数字资产，比如艺术品、音乐、视频、游戏道具等。它们都可以被转换成NFT，并且在区块链上进行唯一的标识和交易。\\n\\n最后，NFT的价值和稀缺性有关。由于每一个NFT都是独一无二的，它们的价值也会因为稀缺性而上升。比如一幅艺术作品的NFT，'"
      ]
     },
     "execution_count": 5,
     "metadata": {},
     "output_type": "execute_result"
    }
   ],
   "source": [
    "from langchain_core.prompts import PromptTemplate\n",
    "from langchain_openai import OpenAI\n",
    "\n",
    "template = \"\"\"Question: {question}\n",
    "\n",
    "Answer: Let's think step by step.\"\"\"\n",
    "\n",
    "prompt = PromptTemplate.from_template(template)\n",
    "\n",
    "llm = OpenAI(\n",
    "  openai_api_key=os.getenv(\"OPENAI_KEY\"), \n",
    "  # openai_api_base=os.getenv(\"OPENAI_API_BASE\"),\n",
    "  temperature=0,\n",
    "  # model_name=\"gpt-4\"\n",
    ")\n",
    "\n",
    "question = \"什么是NFT呢?\"\n",
    "\n",
    "llm_chain = prompt | llm\n",
    "llm_chain.invoke(question)"
   ]
  },
  {
   "cell_type": "markdown",
   "metadata": {},
   "source": [
    "#### 完整的调用流程"
   ]
  },
  {
   "cell_type": "markdown",
   "metadata": {},
   "source": [
    "- 起名服务"
   ]
  },
  {
   "cell_type": "code",
   "execution_count": 63,
   "metadata": {},
   "outputs": [
    {
     "name": "stdout",
     "output_type": "stream",
     "text": [
      "template:  你是一个起名大师,请模仿示例起3个具有中国特色的名字。然后只返回以逗号分隔的文本，不要返回其他内容。\n",
      "returs strs:  \n",
      "\n",
      "李明, 张晓梅, 王小华\n",
      "format strs:  ['李明', ' 张晓梅', ' 王小华']\n"
     ]
    }
   ],
   "source": [
    "from langchain_openai import OpenAI\n",
    "from langchain_core.prompts import PromptTemplate\n",
    "from langchain_core.output_parsers import BaseOutputParser\n",
    "from langchain_core.exceptions import OutputParserException\n",
    "\n",
    "class BaseOutputParser(BaseOutputParser[bool]):\n",
    "    \"\"\"Custom boolean parser.\"\"\"\n",
    "\n",
    "    true_val: str = \"YES\"\n",
    "    false_val: str = \"NO\"\n",
    "\n",
    "    def parse(self, text: str) -> bool:\n",
    "        return text.strip().split(\",\")\n",
    "\n",
    "    @property\n",
    "    def _type(self) -> str:\n",
    "        return \"boolean_output_parser\"\n",
    "\n",
    "prompt_template = PromptTemplate.from_template(\n",
    "    \"你是一个起名大师,请模仿示例起3个具有{county}特色的名字。然后只返回以逗号分隔的文本，不要返回其他内容。\"\n",
    ")\n",
    "message = prompt_template.format(county=\"中国\")\n",
    "\n",
    "llm = OpenAI(\n",
    "  openai_api_key=os.getenv(\"OPENAI_KEY\"), \n",
    "  # openai_api_base=os.getenv(\"OPENAI_API_BASE\"),\n",
    "  # temperature=0,\n",
    "  # model_name=\"gpt-4\"\n",
    ")\n",
    "print('template: ', message)\n",
    "strs = llm.invoke(message)\n",
    "print('returs strs: ', strs)\n",
    "format_res = BaseOutputParser().parse(strs)\n",
    "print('format strs: ', format_res)\n"
   ]
  }
 ],
 "metadata": {
  "kernelspec": {
   "display_name": "langchain",
   "language": "python",
   "name": "python3"
  },
  "language_info": {
   "codemirror_mode": {
    "name": "ipython",
    "version": 3
   },
   "file_extension": ".py",
   "mimetype": "text/x-python",
   "name": "python",
   "nbconvert_exporter": "python",
   "pygments_lexer": "ipython3",
   "version": "3.12.2"
  }
 },
 "nbformat": 4,
 "nbformat_minor": 2
}
