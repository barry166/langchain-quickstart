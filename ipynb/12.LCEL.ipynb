{
 "cells": [
  {
   "cell_type": "markdown",
   "metadata": {},
   "source": [
    "### LCEL(LangChain Expression Language )\n",
    "**长链表达式语言**"
   ]
  },
  {
   "cell_type": "markdown",
   "metadata": {},
   "source": [
    "#### 概念"
   ]
  },
  {
   "cell_type": "markdown",
   "metadata": {},
   "source": [
    "- (LangChain Expression Language，简称 LCEL)是一种轻松组合链的声明性方法。\n",
    "\n",
    "- LCEL 使得从基本组件构建复杂链变得容易，并且支持开箱即用的功能，比如流、并行和日志记录。"
   ]
  },
  {
   "cell_type": "markdown",
   "metadata": {},
   "source": [
    "> 在新版本中，langchain已经不推荐使用之前的LLMChain了，而是推荐使用LCEL来替代\n",
    "> [https://api.python.langchain.com/en/latest/chains/langchain.chains.llm.LLMChain.html#langchain.chains.llm.LLMChain]"
   ]
  },
  {
   "cell_type": "markdown",
   "metadata": {},
   "source": [
    "#### 优点\n",
    "【https://python.langchain.com/v0.1/docs/expression_language/】\n",
    "\n",
    "- 统一的接口 Runnable\n",
    "- 流式支持\n",
    "- 异步支持\n",
    "- 优化的并行执行\n",
    "- 重试和回退\n",
    "- 访问中间结果\n",
    "- 输入和输出模式\n",
    "- 无缝的LangSmith跟踪集成\n",
    "- 无缝的LangServe部署集成"
   ]
  },
  {
   "cell_type": "code",
   "execution_count": 3,
   "metadata": {},
   "outputs": [],
   "source": [
    "# 环境变量设置\n",
    "import os\n",
    "os.environ[\"OPENAI_API_KEY\"] = \"sk-xxx\"\n",
    "os.environ[\"OPENAI_API_BASE\"] = \"https://api.chatanywhere.tech/v1\""
   ]
  },
  {
   "cell_type": "markdown",
   "metadata": {},
   "source": [
    "### 基础使用 prompt + model + output parser"
   ]
  },
  {
   "cell_type": "markdown",
   "metadata": {},
   "source": [
    "**LCEL**可以将以上逻辑使用chains串联起来"
   ]
  },
  {
   "cell_type": "code",
   "execution_count": 1,
   "metadata": {},
   "outputs": [],
   "source": [
    "! pip install -qU langchain-openai"
   ]
  },
  {
   "cell_type": "code",
   "execution_count": 8,
   "metadata": {},
   "outputs": [],
   "source": [
    "from langchain_openai import ChatOpenAI\n",
    "\n",
    "model = ChatOpenAI(model=\"gpt-4\", verbose=True, temperature=0)"
   ]
  },
  {
   "cell_type": "markdown",
   "metadata": {},
   "source": [
    "- 下面代码使用 LCEL 将这些不同的组件拼接成一个链\n",
    "- | 符号类似于 unix 管道运算符，它将不同的组件链接在一起，将一个组件的输出作为输入提供给下一个组件。\n",
    "\n",
    "```\n",
    "chain = prompt | model | output_parser\n",
    "```"
   ]
  },
  {
   "cell_type": "code",
   "execution_count": 9,
   "metadata": {},
   "outputs": [
    {
     "data": {
      "text/plain": [
       "\"一个男孩走进冰淇淋店，对店员说：“我想要一份香草口味的冰淇淋。”\\n\\n店员答道：“对不起，我们已经卖完香草口味的了。”\\n\\n男孩想了想，然后说：“那我要一份香草口味的。”\\n\\n店员有些没耐心地回答：“我刚才告诉你了，香草口味的卖完了。”\\n\\n男孩再次想了想，然后说：“那我要一份香草口味的。”\\n\\n店员无奈地问：“你知道'卖完'是什么意思吗？”\\n\\n男孩回答：“当然知道，那我要一份香草口味的。”\\n\\n店员终于忍不住笑出声来：“你真是个坚持的小家伙，那我给你找找看。”\""
      ]
     },
     "execution_count": 9,
     "metadata": {},
     "output_type": "execute_result"
    }
   ],
   "source": [
    "from langchain_core.output_parsers import StrOutputParser\n",
    "from langchain_core.prompts import ChatPromptTemplate\n",
    "\n",
    "prompt = ChatPromptTemplate.from_template(\"请告诉我一个有关于{topic}的笑话\")\n",
    "output_parser = StrOutputParser()\n",
    "\n",
    "chain = prompt | model | output_parser\n",
    "\n",
    "chain.invoke({\"topic\": \"冰淇淋\"})"
   ]
  },
  {
   "cell_type": "markdown",
   "metadata": {},
   "source": [
    "通过以下步骤将每个步骤串联起来\n",
    "\n",
    "![alt text](image.png)"
   ]
  },
  {
   "cell_type": "markdown",
   "metadata": {},
   "source": [
    "### RAG 搜索示例"
   ]
  },
  {
   "cell_type": "markdown",
   "metadata": {},
   "source": [
    "这个例子将运行一个检索增强生成链，以便在回答问题时添加一些上下文。"
   ]
  },
  {
   "cell_type": "code",
   "execution_count": 16,
   "metadata": {},
   "outputs": [
    {
     "name": "stdout",
     "output_type": "stream",
     "text": [
      "Collecting docarray\n",
      "  Downloading docarray-0.40.0-py3-none-any.whl.metadata (36 kB)\n",
      "Requirement already satisfied: numpy>=1.17.3 in /Users/barry/.pyenv/versions/3.12.2/envs/langchain/lib/python3.12/site-packages (from docarray) (1.26.4)\n",
      "Requirement already satisfied: orjson>=3.8.2 in /Users/barry/.pyenv/versions/3.12.2/envs/langchain/lib/python3.12/site-packages (from docarray) (3.10.2)\n",
      "Requirement already satisfied: pydantic>=1.10.8 in /Users/barry/.pyenv/versions/3.12.2/envs/langchain/lib/python3.12/site-packages (from docarray) (1.10.15)\n",
      "Requirement already satisfied: rich>=13.1.0 in /Users/barry/.pyenv/versions/3.12.2/envs/langchain/lib/python3.12/site-packages (from docarray) (13.7.1)\n",
      "Collecting types-requests>=2.28.11.6 (from docarray)\n",
      "  Downloading types_requests-2.31.0.20240406-py3-none-any.whl.metadata (1.8 kB)\n",
      "Requirement already satisfied: typing-inspect>=0.8.0 in /Users/barry/.pyenv/versions/3.12.2/envs/langchain/lib/python3.12/site-packages (from docarray) (0.9.0)\n",
      "Requirement already satisfied: typing-extensions>=4.2.0 in /Users/barry/.pyenv/versions/3.12.2/envs/langchain/lib/python3.12/site-packages (from pydantic>=1.10.8->docarray) (4.11.0)\n",
      "Requirement already satisfied: markdown-it-py>=2.2.0 in /Users/barry/.pyenv/versions/3.12.2/envs/langchain/lib/python3.12/site-packages (from rich>=13.1.0->docarray) (3.0.0)\n",
      "Requirement already satisfied: pygments<3.0.0,>=2.13.0 in /Users/barry/.pyenv/versions/3.12.2/envs/langchain/lib/python3.12/site-packages (from rich>=13.1.0->docarray) (2.17.2)\n",
      "Requirement already satisfied: urllib3>=2 in /Users/barry/.pyenv/versions/3.12.2/envs/langchain/lib/python3.12/site-packages (from types-requests>=2.28.11.6->docarray) (2.2.1)\n",
      "Requirement already satisfied: mypy-extensions>=0.3.0 in /Users/barry/.pyenv/versions/3.12.2/envs/langchain/lib/python3.12/site-packages (from typing-inspect>=0.8.0->docarray) (1.0.0)\n",
      "Requirement already satisfied: mdurl~=0.1 in /Users/barry/.pyenv/versions/3.12.2/envs/langchain/lib/python3.12/site-packages (from markdown-it-py>=2.2.0->rich>=13.1.0->docarray) (0.1.2)\n",
      "Downloading docarray-0.40.0-py3-none-any.whl (270 kB)\n",
      "\u001b[2K   \u001b[90m━━━━━━━━━━━━━━━━━━━━━━━━━━━━━━━━━━━━━━━━\u001b[0m \u001b[32m270.2/270.2 kB\u001b[0m \u001b[31m1.3 MB/s\u001b[0m eta \u001b[36m0:00:00\u001b[0ma \u001b[36m0:00:01\u001b[0mm\n",
      "\u001b[?25hDownloading types_requests-2.31.0.20240406-py3-none-any.whl (15 kB)\n",
      "Installing collected packages: types-requests, docarray\n",
      "Successfully installed docarray-0.40.0 types-requests-2.31.0.20240406\n"
     ]
    }
   ],
   "source": [
    "! pip install docarray"
   ]
  },
  {
   "cell_type": "code",
   "execution_count": 17,
   "metadata": {},
   "outputs": [],
   "source": [
    "from langchain_openai import ChatOpenAI\n",
    "\n",
    "model = ChatOpenAI(model=\"gpt-3.5-turbo\", verbose=True)"
   ]
  },
  {
   "cell_type": "code",
   "execution_count": 18,
   "metadata": {},
   "outputs": [
    {
     "data": {
      "text/plain": [
       "'小明的父亲在北京工作。'"
      ]
     },
     "execution_count": 18,
     "metadata": {},
     "output_type": "execute_result"
    }
   ],
   "source": [
    "# Requires:\n",
    "# pip install langchain docarray tiktoken\n",
    "\n",
    "from langchain_community.vectorstores import DocArrayInMemorySearch\n",
    "from langchain_core.output_parsers import StrOutputParser\n",
    "from langchain_core.prompts import ChatPromptTemplate\n",
    "from langchain_core.runnables import RunnableParallel, RunnablePassthrough\n",
    "from langchain_openai import OpenAIEmbeddings\n",
    "\n",
    "vectorstore = DocArrayInMemorySearch.from_texts(\n",
    "    [\"小明的父亲在北京工作\", \"小明喜欢吃西瓜\"],\n",
    "    embedding=OpenAIEmbeddings(),\n",
    ")\n",
    "retriever = vectorstore.as_retriever()\n",
    "\n",
    "template = \"\"\"Answer the question based only on the following context:\n",
    "{context}\n",
    "\n",
    "Question: {question}\n",
    "\"\"\"\n",
    "prompt = ChatPromptTemplate.from_template(template)\n",
    "output_parser = StrOutputParser()\n",
    "\n",
    "setup_and_retrieval = RunnableParallel(\n",
    "    {\"context\": retriever, \"question\": RunnablePassthrough()}\n",
    ")\n",
    "\n",
    "chain = setup_and_retrieval | prompt | model | output_parser\n",
    "\n",
    "chain.invoke(\"小明的父亲在哪工作?\")"
   ]
  },
  {
   "cell_type": "markdown",
   "metadata": {},
   "source": [
    "组合链使用如下\n",
    "```\n",
    "chain = setup_and_retrieval | prompt | model | output_parser\n",
    "```"
   ]
  },
  {
   "cell_type": "markdown",
   "metadata": {},
   "source": [
    "链条传递流程如下：\n",
    "1. 第一个步骤创建一个带有两个条目的 Runnable盲对象。第一个条目，上下文将包括检索器获取的文档结果。第二个条目，问题将包含用户的原始问题。为了传递这个问题，我们使用 RunnablePassthrough 来复制这个条目。\n",
    "\n",
    "2. 将字典从上面的步骤提供给提示组件。然后，它接受用户输入(即问题)和检索到的文档(即上下文)来构造提示符并输出 PromptValue。\n",
    "\n",
    "3. 模型组件接受生成的提示符，并传递到 OpenAI LLM 模型进行评估。模型生成的输出是一个 ChatMessage 对象。\n",
    "\n",
    "4. 最后，output _ parser 组件接受一个 ChatMessage，并将其转换为 Python 字符串，该字符串从调用方法返回。"
   ]
  }
 ],
 "metadata": {
  "kernelspec": {
   "display_name": "langchain",
   "language": "python",
   "name": "python3"
  },
  "language_info": {
   "codemirror_mode": {
    "name": "ipython",
    "version": 3
   },
   "file_extension": ".py",
   "mimetype": "text/x-python",
   "name": "python",
   "nbconvert_exporter": "python",
   "pygments_lexer": "ipython3",
   "version": "3.12.2"
  }
 },
 "nbformat": 4,
 "nbformat_minor": 2
}
