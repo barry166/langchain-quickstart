{
 "cells": [
  {
   "cell_type": "markdown",
   "metadata": {},
   "source": [
    "### ChatPDF\n",
    "\n",
    "将上一节的代码整合成面向对象实现方式"
   ]
  },
  {
   "cell_type": "code",
   "execution_count": 2,
   "metadata": {},
   "outputs": [],
   "source": [
    "import os\n",
    "os.environ[\"OPENAI_API_KEY\"] = \"sk-xxx\"\n",
    "os.environ[\"OPENAI_API_BASE\"] = \"https://api.chatanywhere.tech/v1\"\n",
    "os.environ[\"OPENAI_API_MODEL\"] = \"gpt-4-turbo\""
   ]
  },
  {
   "cell_type": "code",
   "execution_count": 8,
   "metadata": {},
   "outputs": [],
   "source": [
    "from langchain_openai import ChatOpenAI\n",
    "from langchain_community.document_loaders import PyPDFLoader\n",
    "from langchain_openai import OpenAIEmbeddings\n",
    "from langchain_chroma import Chroma\n",
    "from langchain_core.prompts import ChatPromptTemplate\n",
    "\n",
    "\n",
    "class ChatPDF:\n",
    "    def __init__(self, pdf_path):\n",
    "        self.pdf_path = pdf_path\n",
    "        self.template =  [\n",
    "            (\"system\",\"你是一个专门处理文档的秘书,你从不暴露自己是AI的身份,你会根据下面提供的上下文内容来继续回答问题.\\n 上下文内容\\n {context} \\n\"),\n",
    "            (\"human\",\"你好！\"),\n",
    "            (\"ai\",\"你好\"),\n",
    "            (\"human\",\"{question}\"),\n",
    "        ]\n",
    "        self.documents = []\n",
    "        self.db = None\n",
    "    \n",
    "    def loadFile(self):\n",
    "      loader = PyPDFLoader(\"test.pdf\")\n",
    "      # 加载并分割\n",
    "      self.documents = loader.load_and_split()\n",
    "\n",
    "    def embeddingAndStore(self):\n",
    "      self.db = Chroma.from_documents(self.documents, OpenAIEmbeddings())\n",
    "      \n",
    "      \n",
    "    def querySearch(self, question):\n",
    "      # 查询\n",
    "      docs = self.db.similarity_search(question)\n",
    "      return docs\n",
    "    \n",
    "    def main(self):\n",
    "      self.loadFile()\n",
    "      self.embeddingAndStore()\n",
    "      \n",
    "    def chatWithQuestion(self, question):\n",
    "        try:\n",
    "          \n",
    "          context = self.querySearch(question)\n",
    "          print('_context', context)\n",
    "          chat = ChatOpenAI(model=\"gpt-3.5-turbo\")\n",
    "          \n",
    "          prompt = ChatPromptTemplate.from_messages(self.template)\n",
    "          messages = prompt.format_messages(context=context, question=question)\n",
    "          \n",
    "          res =  chat.invoke(messages)\n",
    "          return res.content\n",
    "        \n",
    "        except Exception as e: \n",
    "            print(f\"Error loading {Exception} files:{e}\") \n",
    "      \n",
    "      "
   ]
  },
  {
   "cell_type": "markdown",
   "metadata": {},
   "source": [
    "运行代码"
   ]
  },
  {
   "cell_type": "code",
   "execution_count": 9,
   "metadata": {},
   "outputs": [],
   "source": [
    "chat_pdf = ChatPDF('test.pdf')\n",
    "chat_pdf.main()"
   ]
  },
  {
   "cell_type": "code",
   "execution_count": 10,
   "metadata": {},
   "outputs": [
    {
     "name": "stdout",
     "output_type": "stream",
     "text": [
      "_context [Document(page_content='易速鲜花集团 \\n 13 衣扣、裤扣要扣好。内衣与制服搭配得体。内衣的衣领和袖子等不\\n能露出制服。衬衣要干净，下摆扎进裤内。衣袖或裤管不可卷起，\\n工作证佩戴于前胸。  \\n2. 袜子要求  \\n① 男员工深色，与裤子、鞋颜色一致。  \\n② 女员工（穿裙子的）必须穿着肉色长筒丝袜，袜子不可破\\n洞、脱丝，袜口不可外露。  \\n③ 工作袜（指女员工穿着的肉色连裤丝袜 及羊毛袜）应保持\\n整洁。 \\n3. 鞋子要求  \\n穿黑色制式皮鞋，保持干净光亮，款式大方，系好鞋带。不可\\n穿凉鞋，女员工鞋跟应以 1－5cm高为宜。  \\n4. 个人卫生要求   \\n员工应保持个人清洁及口腔卫生，上班前不能饮酒，不能吃大\\n蒜、韭菜等有异味的食物，防止口臭；只能使用清淡香水，用量适\\n中，不能使客人感到刺鼻。  \\n5. 坐姿要求  \\n① 入座要轻缓，上身正直，抬头挺胸，双肩放松放平，双眼\\n平视，面带笑容。  \\n② 就座时不要把椅子坐满，坐椅子的三分之二，双膝并拢，\\n手自然放在膝上，当客人走来时，应立即起立，热情招呼。  \\n6. 站姿要求', metadata={'page': 13, 'source': 'test.pdf'}), Document(page_content='易速鲜花集团 \\n 13 衣扣、裤扣要扣好。内衣与制服搭配得体。内衣的衣领和袖子等不\\n能露出制服。衬衣要干净，下摆扎进裤内。衣袖或裤管不可卷起，\\n工作证佩戴于前胸。  \\n2. 袜子要求  \\n① 男员工深色，与裤子、鞋颜色一致。  \\n② 女员工（穿裙子的）必须穿着肉色长筒丝袜，袜子不可破\\n洞、脱丝，袜口不可外露。  \\n③ 工作袜（指女员工穿着的肉色连裤丝袜 及羊毛袜）应保持\\n整洁。 \\n3. 鞋子要求  \\n穿黑色制式皮鞋，保持干净光亮，款式大方，系好鞋带。不可\\n穿凉鞋，女员工鞋跟应以 1－5cm高为宜。  \\n4. 个人卫生要求   \\n员工应保持个人清洁及口腔卫生，上班前不能饮酒，不能吃大\\n蒜、韭菜等有异味的食物，防止口臭；只能使用清淡香水，用量适\\n中，不能使客人感到刺鼻。  \\n5. 坐姿要求  \\n① 入座要轻缓，上身正直，抬头挺胸，双肩放松放平，双眼\\n平视，面带笑容。  \\n② 就座时不要把椅子坐满，坐椅子的三分之二，双膝并拢，\\n手自然放在膝上，当客人走来时，应立即起立，热情招呼。  \\n6. 站姿要求', metadata={'page': 13, 'source': 'test.pdf'}), Document(page_content='易速鲜花集团 \\n 12 第二节  仪容仪表规范  \\n \\n一、 仪  容 \\n1. 发型要求  \\n头发要梳理整齐，男员工头发长度应适中，前不过眉、后不过\\n领、侧不过耳、呈现自然色；女员工头发长度不可过肩，过肩发需\\n束起来，不可散落，并用深色且式样简洁，大小不超过十公分的头\\n饰，呈现自然色。  \\n2. 面部要求  \\n① 男员工不留胡须，并保持脸部干净整洁；女员工须着淡妆\\n（至少涂有口红），但不可浓妆艳抹。  \\n② 眼睛近视的员工尽量配戴隐形眼镜，如必须配戴近视眼镜\\n的则眼镜款式要简单、大方。  \\n3. 手部要求  \\n① 指甲修剪整 齐、保持清洁，不得留长指甲。不可涂有色指\\n甲油。 \\n② 除了样式简洁的手表、结婚戒指、耳环（简单的、小的、\\n不晃动的耳环）外，不得在穿着制服时佩戴其它饰品。  \\n二、 仪  表 \\n1. 制服要求  \\n必须按规定穿着制服，保持整齐、清洁、熨烫平整、无破损，', metadata={'page': 12, 'source': 'test.pdf'}), Document(page_content='易速鲜花集团 \\n 12 第二节  仪容仪表规范  \\n \\n一、 仪  容 \\n1. 发型要求  \\n头发要梳理整齐，男员工头发长度应适中，前不过眉、后不过\\n领、侧不过耳、呈现自然色；女员工头发长度不可过肩，过肩发需\\n束起来，不可散落，并用深色且式样简洁，大小不超过十公分的头\\n饰，呈现自然色。  \\n2. 面部要求  \\n① 男员工不留胡须，并保持脸部干净整洁；女员工须着淡妆\\n（至少涂有口红），但不可浓妆艳抹。  \\n② 眼睛近视的员工尽量配戴隐形眼镜，如必须配戴近视眼镜\\n的则眼镜款式要简单、大方。  \\n3. 手部要求  \\n① 指甲修剪整 齐、保持清洁，不得留长指甲。不可涂有色指\\n甲油。 \\n② 除了样式简洁的手表、结婚戒指、耳环（简单的、小的、\\n不晃动的耳环）外，不得在穿着制服时佩戴其它饰品。  \\n二、 仪  表 \\n1. 制服要求  \\n必须按规定穿着制服，保持整齐、清洁、熨烫平整、无破损，', metadata={'page': 12, 'source': 'test.pdf'})]\n",
      "根据提供的文档内容，公司对员工的制服搭配有以下要求：\n",
      "\n",
      "1. 衣扣、裤扣要扣好。内衣与制服搭配得体。内衣的衣领和袖子等不能露出制服。衬衣要干净，下摆扎进裤内。衣袖或裤管不可卷起，工作证佩戴于前胸。\n",
      "\n",
      "2. 男员工的袜子应为深色，与裤子和鞋颜色一致。女员工（穿裙子的）必须穿着肉色长筒丝袜，袜子不可破洞、脱丝，袜口不可外露。工作袜（指女员工穿着的肉色连裤丝袜及羊毛袜）应保持整洁。\n",
      "\n",
      "3. 鞋子要求穿黑色制式皮鞋，保持干净光亮，款式大方，系好鞋带。不可穿凉鞋，女员工鞋跟应以1－5cm高为宜。\n",
      "\n",
      "总结来说，公司对员工的制服搭配要求整洁、得体，并且符合统一的标准。\n"
     ]
    }
   ],
   "source": [
    "res = chat_pdf.chatWithQuestion(\"公司对于员工的制服搭配有什么要求吗\")\n",
    "print(res)"
   ]
  }
 ],
 "metadata": {
  "kernelspec": {
   "display_name": "langchain",
   "language": "python",
   "name": "python3"
  },
  "language_info": {
   "codemirror_mode": {
    "name": "ipython",
    "version": 3
   },
   "file_extension": ".py",
   "mimetype": "text/x-python",
   "name": "python",
   "nbconvert_exporter": "python",
   "pygments_lexer": "ipython3",
   "version": "3.12.2"
  }
 },
 "nbformat": 4,
 "nbformat_minor": 2
}
