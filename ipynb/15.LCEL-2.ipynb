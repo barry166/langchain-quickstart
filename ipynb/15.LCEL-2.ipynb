{
 "cells": [
  {
   "cell_type": "markdown",
   "metadata": {},
   "source": [
    "## LCEL"
   ]
  },
  {
   "cell_type": "code",
   "execution_count": 2,
   "metadata": {},
   "outputs": [],
   "source": [
    "# 环境变量设置\n",
    "import os\n",
    "os.environ[\"OPENAI_API_KEY\"] = \"sk-xxx\"\n",
    "os.environ[\"OPENAI_API_BASE\"] = \"https://api.chatanywhere.tech/v1\""
   ]
  },
  {
   "cell_type": "markdown",
   "metadata": {},
   "source": [
    "### **Primitives**"
   ]
  },
  {
   "cell_type": "markdown",
   "metadata": {},
   "source": [
    "除了可与 LCEL 一起使用的各种组件之外，LangChain 还包括各种有助于传递和格式化数据、绑定参数、调用自定义逻辑等的Primitives。"
   ]
  },
  {
   "cell_type": "markdown",
   "metadata": {},
   "source": [
    "### Chaining runnables\n",
    "\n",
    "Runnable 接口的一个关键优势是，任意两个可运行程序都可以“链接”在一起形成序列。前一个可运行文件的输出。\n",
    "\n",
    "调用作为输入传递给下一个可运行的。可以使用管道运算符(|)或更显式的。管道()方法，该方法执行相同的操作。\n",
    "\n",
    "产生的 RunnableSequence 本身是一个可运行的，这意味着它可以像其他任何可运行的序列一样被调用、流化或管道化。"
   ]
  },
  {
   "cell_type": "markdown",
   "metadata": {},
   "source": [
    "##### Chaining runnables"
   ]
  },
  {
   "cell_type": "markdown",
   "metadata": {},
   "source": [
    "可以使用runnable API替换之前的顺序链 SimpleSequentialChain，如下所示"
   ]
  },
  {
   "cell_type": "code",
   "execution_count": null,
   "metadata": {},
   "outputs": [],
   "source": [
    "! pip install --upgrade --quiet langchain langchain-anthropic"
   ]
  },
  {
   "cell_type": "code",
   "execution_count": 5,
   "metadata": {},
   "outputs": [
    {
     "name": "stdout",
     "output_type": "stream",
     "text": [
      "标题：甜蜜的冰淇淋与糖果的恶作剧\n",
      "\n",
      "笑话正文：为什么冰淇淋不喜欢和糖果一起玩？因为糖果总是会“粘”在一起！哈哈哈，真是甜蜜的恶作剧啊！\n"
     ]
    }
   ],
   "source": [
    "from langchain_openai import ChatOpenAI\n",
    "from langchain_core.output_parsers import StrOutputParser\n",
    "from langchain_core.prompts import ChatPromptTemplate\n",
    "from langchain_core.runnables import RunnablePassthrough\n",
    "\n",
    "output_parser = StrOutputParser()\n",
    "\n",
    "joke_for_topic_prompt = ChatPromptTemplate.from_template(\"请说一个有关于{topic}的笑话.\")\n",
    "analyze_joke_prompt = ChatPromptTemplate.from_template(\"请在这个笑话前面加上一个吸引人的标题，然后才是笑话正文\\n{joke}\")\n",
    "\n",
    "llm = ChatOpenAI(verbose=True)\n",
    "\n",
    "chain = (\n",
    "    {\"topic\": RunnablePassthrough()}\n",
    "    | joke_for_topic_prompt\n",
    "    | llm\n",
    "    | {\"joke\": output_parser}\n",
    "    | analyze_joke_prompt\n",
    "    | llm\n",
    "    | output_parser\n",
    ")\n",
    "\n",
    "result = chain.invoke(\"冰淇淋\")\n",
    "print(result)"
   ]
  }
 ],
 "metadata": {
  "kernelspec": {
   "display_name": "langchain",
   "language": "python",
   "name": "python3"
  },
  "language_info": {
   "codemirror_mode": {
    "name": "ipython",
    "version": 3
   },
   "file_extension": ".py",
   "mimetype": "text/x-python",
   "name": "python",
   "nbconvert_exporter": "python",
   "pygments_lexer": "ipython3",
   "version": "3.12.2"
  }
 },
 "nbformat": 4,
 "nbformat_minor": 2
}
